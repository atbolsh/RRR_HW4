{
 "cells": [
  {
   "cell_type": "markdown",
   "metadata": {},
   "source": [
    "We first need to load the spinGlass data and modules."
   ]
  },
  {
   "cell_type": "code",
   "execution_count": 1,
   "metadata": {},
   "outputs": [
    {
     "name": "stdout",
     "output_type": "stream",
     "text": [
      "[[ 1.  1.  1. ..., -1. -1. -1.]\n",
      " [ 1.  1.  1. ..., -1. -1. -1.]\n",
      " [ 1.  1.  1. ..., -1. -1. -1.]\n",
      " ..., \n",
      " [-1. -1. -1. ...,  1.  1.  1.]\n",
      " [-1. -1. -1. ...,  1.  1.  1.]\n",
      " [-1. -1. -1. ...,  1.  1.  1.]]\n"
     ]
    }
   ],
   "source": [
    "from RRR import *\n",
    "from linProject import *\n",
    "from spinGlassProject import *\n",
    "from rankProject import *\n",
    "\n",
    "n = 40\n",
    "\n",
    "f = open('spinglassH', 'r')\n",
    "l = f.readlines()\n",
    "f.close()\n",
    "ll = [line.split() for line in l]\n",
    "lll = [[float(s) for s in line] for line in ll]\n",
    "H = np.array(lll)\n",
    "\n",
    "A = semiDefProject(np.random.rand(n, n)*2 - 1)\n",
    "\n",
    "print spinGlassProject(A)"
   ]
  },
  {
   "cell_type": "markdown",
   "metadata": {},
   "source": [
    "Now, we should really test the setup. I recall from class that the true minimum energy was around $-230$, so let's try projecting onto $-200$."
   ]
  },
  {
   "cell_type": "code",
   "execution_count": 2,
   "metadata": {
    "collapsed": true
   },
   "outputs": [],
   "source": [
    "target = -200.\n",
    "\n",
    "A = semiDefProject(2*np.random.rand(n, n)-1)\n",
    "\n",
    "Y, errors, sols = RRR(A, \n",
    "                    lambda x: lowerBoundProject(x, H, target), \n",
    "                    spinGlassProject,\n",
    "                    0.5, 1e-12, 10000, True)"
   ]
  },
  {
   "cell_type": "code",
   "execution_count": 3,
   "metadata": {},
   "outputs": [
    {
     "name": "stdout",
     "output_type": "stream",
     "text": [
      "[[ 1.  1.  1. ...,  1. -1. -1.]\n",
      " [ 1.  1.  1. ...,  1. -1. -1.]\n",
      " [ 1.  1.  1. ...,  1. -1. -1.]\n",
      " ..., \n",
      " [ 1.  1.  1. ...,  1. -1. -1.]\n",
      " [-1. -1. -1. ..., -1.  1.  1.]\n",
      " [-1. -1. -1. ..., -1.  1.  1.]]\n"
     ]
    }
   ],
   "source": [
    "print sols"
   ]
  },
  {
   "cell_type": "code",
   "execution_count": 4,
   "metadata": {},
   "outputs": [
    {
     "name": "stdout",
     "output_type": "stream",
     "text": [
      "[-1. -1. -1.  1.  1. -1. -1. -1. -1.  1. -1. -1. -1.  1. -1.  1. -1. -1.\n",
      "  1. -1.  1. -1.  1.  1.  1. -1. -1.  1. -1. -1.  1.  1.  1. -1. -1. -1.\n",
      "  1. -1.  1.  1.]\n",
      "-256.678503498\n"
     ]
    }
   ],
   "source": [
    "spins = extractSpins(sols)\n",
    "print spins\n",
    "\n",
    "print np.sum(np.outer(spins, spins)*H)"
   ]
  },
  {
   "cell_type": "markdown",
   "metadata": {
    "collapsed": true
   },
   "source": [
    "Code ran for about 5 seconds.\n",
    "\n",
    "We definitely have an arrangement at $E=-256.6$.\n",
    "\n",
    "What about something lower?"
   ]
  },
  {
   "cell_type": "code",
   "execution_count": 10,
   "metadata": {},
   "outputs": [],
   "source": [
    "target = -260\n",
    "\n",
    "A = semiDefProject(2*np.random.rand(n, n)-1)\n",
    "\n",
    "Y, errors, sols = RRR(A, \n",
    "                    lambda x: lowerBoundProject(x, H, target), \n",
    "                    spinGlassProject,\n",
    "                    0.5, 1e-12, 10000, True)"
   ]
  },
  {
   "cell_type": "code",
   "execution_count": 14,
   "metadata": {},
   "outputs": [
    {
     "name": "stdout",
     "output_type": "stream",
     "text": [
      "[-1. -1. -1.  1.  1.  1.  1.  1.  1. -1. -1. -1. -1. -1. -1. -1. -1.  1.\n",
      " -1.  1.  1. -1. -1. -1.  1.  1.  1.  1.  1.  1. -1.  1.  1.  1.  1.  1.\n",
      "  1.  1. -1. -1.]\n",
      "-271.315747542\n"
     ]
    }
   ],
   "source": [
    "spins = extractSpins(sols)\n",
    "\n",
    "print spins\n",
    "\n",
    "print np.sum(np.outer(spins, spins)*H)"
   ]
  },
  {
   "cell_type": "code",
   "execution_count": 15,
   "metadata": {},
   "outputs": [
    {
     "data": {
      "image/png": "[encoded data removed]",
      "text/plain": [
       "<matplotlib.figure.Figure at 0x7f876132eb10>"
      ]
     },
     "metadata": {},
     "output_type": "display_data"
    }
   ],
   "source": [
    "plt.plot(errors)\n",
    "plt.show()"
   ]
  },
  {
   "cell_type": "markdown",
   "metadata": {},
   "source": [
    "### How low can we go?\n",
    "\n",
    "Well, the below calculation gives the standard deviation of a \"typical\" set of spins."
   ]
  },
  {
   "cell_type": "code",
   "execution_count": 21,
   "metadata": {},
   "outputs": [
    {
     "name": "stdout",
     "output_type": "stream",
     "text": [
      "44.8867187413\n"
     ]
    }
   ],
   "source": [
    "total =  np.sum(np.abs(H))\n",
    "num =  40*39.\n",
    "\n",
    "ave = total/num\n",
    "\n",
    "sig = np.sqrt(num)*ave\n",
    "print sig\n",
    "\n"
   ]
  },
  {
   "cell_type": "markdown",
   "metadata": {},
   "source": [
    "What we really have is a Gumbel distribution, with $2^{40}$ samples.\n",
    "\n",
    "We can approximate the minimum expected value as\n"
   ]
  },
  {
   "cell_type": "code",
   "execution_count": 22,
   "metadata": {},
   "outputs": [
    {
     "name": "stdout",
     "output_type": "stream",
     "text": [
      "-334.253207361\n"
     ]
    }
   ],
   "source": [
    "exp = 0 - sig*np.sqrt(2*40*math.log(2))\n",
    "print exp"
   ]
  },
  {
   "cell_type": "markdown",
   "metadata": {},
   "source": [
    "Let's go for that target."
   ]
  },
  {
   "cell_type": "code",
   "execution_count": 23,
   "metadata": {
    "collapsed": true
   },
   "outputs": [],
   "source": [
    "target = -320\n",
    "\n",
    "A = semiDefProject(2*np.random.rand(n, n)-1)\n",
    "\n",
    "Y, errors, sols = RRR(A, \n",
    "                    lambda x: lowerBoundProject(x, H, target), \n",
    "                    spinGlassProject,\n",
    "                    0.5, 1e-12, 10000, True)"
   ]
  },
  {
   "cell_type": "code",
   "execution_count": 24,
   "metadata": {},
   "outputs": [
    {
     "name": "stdout",
     "output_type": "stream",
     "text": [
      "[-1. -1. -1.  1.  1. -1.  1.  1. -1. -1. -1. -1. -1.  1.  1.  1.  1. -1.\n",
      "  1. -1.  1. -1. -1. -1. -1.  1.  1. -1. -1. -1.  1.  1.  1. -1.  1.  1.\n",
      "  1. -1. -1.  1.]\n",
      "-362.608228638\n"
     ]
    }
   ],
   "source": [
    "spins = extractSpins(sols)\n",
    "\n",
    "print spins\n",
    "\n",
    "print np.sum(np.outer(spins, spins)*H)"
   ]
  },
  {
   "cell_type": "markdown",
   "metadata": {},
   "source": [
    "Clearly, we did much better than we expected.\n",
    "\n",
    "Let's see how much further we can push this."
   ]
  },
  {
   "cell_type": "code",
   "execution_count": 25,
   "metadata": {},
   "outputs": [
    {
     "name": "stdout",
     "output_type": "stream",
     "text": [
      "Warning: maximum iterations exceeded, no convergence\n"
     ]
    }
   ],
   "source": [
    "target = -365\n",
    "\n",
    "A = semiDefProject(2*np.random.rand(n, n)-1)\n",
    "\n",
    "Y, errors, sols = RRR(A, \n",
    "                    lambda x: lowerBoundProject(x, H, target), \n",
    "                    spinGlassProject,\n",
    "                    0.5, 1e-12, 10000, True)"
   ]
  },
  {
   "cell_type": "code",
   "execution_count": 26,
   "metadata": {},
   "outputs": [
    {
     "name": "stdout",
     "output_type": "stream",
     "text": [
      "0.0173340397736\n"
     ]
    }
   ],
   "source": [
    "print errors[-1]"
   ]
  },
  {
   "cell_type": "markdown",
   "metadata": {},
   "source": [
    "We didn't reach 1e-12, but we did get close enough to extract spins."
   ]
  },
  {
   "cell_type": "code",
   "execution_count": 28,
   "metadata": {},
   "outputs": [
    {
     "name": "stdout",
     "output_type": "stream",
     "text": [
      "[-1.  1.  1. -1. -1. -1.  1.  1. -1.  1. -1. -1. -1. -1.  1.  1.  1. -1.\n",
      " -1.  1. -1.  1.  1. -1. -1.  1. -1.  1. -1. -1. -1.  1.  1. -1.  1.  1.\n",
      " -1. -1. -1. -1.]\n",
      "-364.021419534\n"
     ]
    }
   ],
   "source": [
    "spins = extractSpins(sols)\n",
    "\n",
    "print spins\n",
    "\n",
    "print np.sum(np.outer(spins, spins)*H)"
   ]
  },
  {
   "cell_type": "markdown",
   "metadata": {},
   "source": [
    "So, we are very close to a solution. This is a better minimum than before, but we didn't reach $-365$.\n",
    "\n",
    "Just to check, let's do something slightly $more$ ambitious -- and therefore, a stronger projection. If we can't get something, I'll assume we really just found the ground state."
   ]
  },
  {
   "cell_type": "code",
   "execution_count": 29,
   "metadata": {
    "collapsed": true
   },
   "outputs": [],
   "source": [
    "target = -370\n",
    "\n",
    "A = semiDefProject(2*np.random.rand(n, n)-1)\n",
    "\n",
    "Y, errors, sols = RRR(A, \n",
    "                    lambda x: lowerBoundProject(x, H, target), \n",
    "                    spinGlassProject,\n",
    "                    0.5, 1e-12, 10000, True)"
   ]
  },
  {
   "cell_type": "code",
   "execution_count": 30,
   "metadata": {},
   "outputs": [
    {
     "name": "stdout",
     "output_type": "stream",
     "text": [
      "[-1. -1. -1.  1.  1. -1.  1. -1. -1. -1. -1. -1. -1.  1.  1. -1.  1. -1.\n",
      "  1. -1.  1. -1. -1. -1. -1.  1.  1. -1. -1. -1.  1.  1.  1. -1.  1.  1.\n",
      "  1.  1. -1.  1.]\n",
      "-393.090235212\n"
     ]
    }
   ],
   "source": [
    "spins = extractSpins(sols)\n",
    "\n",
    "print spins\n",
    "\n",
    "print np.sum(np.outer(spins, spins)*H)"
   ]
  },
  {
   "cell_type": "markdown",
   "metadata": {},
   "source": [
    "I knew it! So we can get even lower!\n",
    "\n",
    "Can we go for $400$?"
   ]
  },
  {
   "cell_type": "code",
   "execution_count": 31,
   "metadata": {
    "collapsed": true
   },
   "outputs": [],
   "source": [
    "target = -400\n",
    "\n",
    "A = semiDefProject(2*np.random.rand(n, n)-1)\n",
    "\n",
    "Y, errors, sols = RRR(A, \n",
    "                    lambda x: lowerBoundProject(x, H, target), \n",
    "                    spinGlassProject,\n",
    "                    0.5, 1e-12, 10000, True)"
   ]
  },
  {
   "cell_type": "code",
   "execution_count": 32,
   "metadata": {},
   "outputs": [
    {
     "name": "stdout",
     "output_type": "stream",
     "text": [
      "[-1.  1.  1. -1.  1. -1. -1.  1. -1.  1. -1. -1. -1.  1.  1.  1. -1. -1.\n",
      "  1.  1. -1.  1.  1. -1.  1. -1. -1. -1. -1. -1.  1.  1.  1. -1.  1.  1.\n",
      " -1. -1. -1. -1.]\n",
      "-404.457010139\n"
     ]
    }
   ],
   "source": [
    "spins = extractSpins(sols)\n",
    "\n",
    "print spins\n",
    "\n",
    "print np.sum(np.outer(spins, spins)*H)"
   ]
  },
  {
   "cell_type": "markdown",
   "metadata": {},
   "source": [
    "It seems we can. What about $415$?"
   ]
  },
  {
   "cell_type": "code",
   "execution_count": 33,
   "metadata": {},
   "outputs": [
    {
     "name": "stdout",
     "output_type": "stream",
     "text": [
      "Warning: maximum iterations exceeded, no convergence\n"
     ]
    }
   ],
   "source": [
    "target = -415\n",
    "\n",
    "A = semiDefProject(2*np.random.rand(n, n)-1)\n",
    "\n",
    "Y, errors, sols = RRR(A, \n",
    "                    lambda x: lowerBoundProject(x, H, target), \n",
    "                    spinGlassProject,\n",
    "                    0.5, 1e-12, 10000, True)"
   ]
  },
  {
   "cell_type": "code",
   "execution_count": 35,
   "metadata": {},
   "outputs": [
    {
     "data": {
      "image/png": "[encoded data removed]",
      "text/plain": [
       "<matplotlib.figure.Figure at 0x7f87611d3110>"
      ]
     },
     "metadata": {},
     "output_type": "display_data"
    }
   ],
   "source": [
    "plt.plot(errors)\n",
    "plt.show()"
   ]
  },
  {
   "cell_type": "code",
   "execution_count": 36,
   "metadata": {},
   "outputs": [
    {
     "name": "stdout",
     "output_type": "stream",
     "text": [
      "[[  1.00000000e+00  -2.34021227e+02   9.96010479e+02 ...,  -1.17319166e+03\n",
      "    1.11760995e+03   2.77920406e+03]\n",
      " [ -2.34021227e+02   1.00000000e+00   1.54579735e+03 ...,   1.05546747e+03\n",
      "   -1.81773875e+02  -4.45663102e+02]\n",
      " [  9.96010479e+02   1.54579735e+03   1.00000000e+00 ...,  -3.88962893e+02\n",
      "   -4.08419340e+02   1.32292419e+03]\n",
      " ..., \n",
      " [ -1.17319166e+03   1.05546747e+03  -3.88962893e+02 ...,   1.00000000e+00\n",
      "   -2.19923428e+03   4.94818406e+02]\n",
      " [  1.11760995e+03  -1.81773875e+02  -4.08419340e+02 ...,  -2.19923428e+03\n",
      "    1.00000000e+00  -2.84364763e+03]\n",
      " [  2.77920406e+03  -4.45663102e+02   1.32292419e+03 ...,   4.94818406e+02\n",
      "   -2.84364763e+03   1.00000000e+00]]\n"
     ]
    }
   ],
   "source": [
    "print Y"
   ]
  },
  {
   "cell_type": "code",
   "execution_count": 39,
   "metadata": {},
   "outputs": [
    {
     "name": "stdout",
     "output_type": "stream",
     "text": [
      "[-1.  1.  1.  1.  1.  1. -1. -1. -1.  1.  1.  1. -1.  1. -1.  1. -1. -1.\n",
      "  1. -1. -1.  1.  1. -1.  1.  1.  1.  1.  1.  1.  1.  1. -1.  1.  1.  1.\n",
      "  1. -1.  1. -1.]\n",
      "473.122218973\n"
     ]
    }
   ],
   "source": [
    "spins = extractSpins(sols)\n",
    "\n",
    "print spins\n",
    "\n",
    "print np.sum(np.outer(spins,spins)*H)"
   ]
  },
  {
   "cell_type": "code",
   "execution_count": 44,
   "metadata": {},
   "outputs": [
    {
     "name": "stdout",
     "output_type": "stream",
     "text": [
      "Warning: maximum iterations exceeded, no convergence\n"
     ]
    }
   ],
   "source": [
    "target = -410\n",
    "\n",
    "A = semiDefProject(2*np.random.rand(n, n)-1)\n",
    "\n",
    "Y, errors, sols = RRR(A, \n",
    "                    lambda x: lowerBoundProject(x, H, target), \n",
    "                    spinGlassProject,\n",
    "                    0.5, 1e-12, 10000, True)"
   ]
  },
  {
   "cell_type": "code",
   "execution_count": 45,
   "metadata": {},
   "outputs": [
    {
     "name": "stdout",
     "output_type": "stream",
     "text": [
      "[-1.  1.  1.  1.  1.  1. -1. -1. -1.  1.  1.  1. -1.  1. -1.  1. -1. -1.\n",
      "  1. -1. -1.  1.  1. -1.  1.  1.  1.  1.  1.  1.  1.  1. -1.  1.  1.  1.\n",
      "  1. -1.  1. -1.]\n",
      "473.122218973\n"
     ]
    }
   ],
   "source": [
    "spins = extractSpins(sols)\n",
    "\n",
    "print spins\n",
    "\n",
    "print np.sum(np.outer(spins,spins)*H)"
   ]
  },
  {
   "cell_type": "markdown",
   "metadata": {},
   "source": [
    "This is definitely not what we want, although it does seem to be some sort of attractor; I got projected onto this solution multiple times.\n",
    "\n",
    "I checke the $Y$, and it seems it has some very large coordinates. Possibly, this solution is simply the outermost one, for some reason, so anything that's \"shot out\" will be projected here."
   ]
  },
  {
   "cell_type": "markdown",
   "metadata": {},
   "source": [
    "## Conclusion\n",
    "\n",
    "I think that $-405$ is either the true ground energy, or very close; it's well below the lowest expected.\n",
    "\n",
    "I think this problem worked quite well."
   ]
  },
  {
   "cell_type": "code",
   "execution_count": null,
   "metadata": {
    "collapsed": true
   },
   "outputs": [],
   "source": []
  }
 ],
 "metadata": {
  "kernelspec": {
   "display_name": "Python 2",
   "language": "python",
   "name": "python2"
  },
  "language_info": {
   "codemirror_mode": {
    "name": "ipython",
    "version": 2
   },
   "file_extension": ".py",
   "mimetype": "text/x-python",
   "name": "python",
   "nbconvert_exporter": "python",
   "pygments_lexer": "ipython2",
   "version": "2.7.14"
  }
 },
 "nbformat": 4,
 "nbformat_minor": 2
}
