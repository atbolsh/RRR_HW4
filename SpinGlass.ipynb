{
 "cells": [
  {
   "cell_type": "markdown",
   "metadata": {},
   "source": [
    "We first need to load the spinGlass data and modules."
   ]
  },
  {
   "cell_type": "code",
   "execution_count": 2,
   "metadata": {},
   "outputs": [
    {
     "name": "stdout",
     "output_type": "stream",
     "text": [
      "[[ 1. -1. -1. ..., -1. -1. -1.]\n",
      " [-1.  1.  1. ...,  1.  1.  1.]\n",
      " [-1.  1.  1. ...,  1.  1.  1.]\n",
      " ..., \n",
      " [-1.  1.  1. ...,  1.  1.  1.]\n",
      " [-1.  1.  1. ...,  1.  1.  1.]\n",
      " [-1.  1.  1. ...,  1.  1.  1.]]\n"
     ]
    }
   ],
   "source": [
    "from RRR import *\n",
    "from linProject import *\n",
    "from spinGlassProject import *\n",
    "from rankProject import *\n",
    "\n",
    "n = 40\n",
    "\n",
    "f = open('spinglassH', 'r')\n",
    "l = f.readlines()\n",
    "f.close()\n",
    "ll = [line.split() for line in l]\n",
    "lll = [[float(s) for s in line] for line in ll]\n",
    "H = np.array(lll)\n",
    "\n",
    "A = semiDefProject(np.random.rand(n, n)*2 - 1)\n",
    "\n",
    "print spinGlassProject(A)"
   ]
  },
  {
   "cell_type": "markdown",
   "metadata": {},
   "source": [
    "Now, we should really test the setup. I recall from class that the true minimum energy was around $-230$, so let's try projecting onto $-190$."
   ]
  },
  {
   "cell_type": "code",
   "execution_count": 24,
   "metadata": {
    "collapsed": true
   },
   "outputs": [],
   "source": [
    "target = -200\n",
    "\n",
    "A = semiDefProject(2*np.random.rand(n, n)-1)\n",
    "\n",
    "Y, errors, sols = RRR(A, \n",
    "                    lambda x: lowerBoundProject(x, H, 2*target), #2, because each prodct appears twice: si*sj and sj*si\n",
    "                    spinGlassProject,\n",
    "                    0.5, 1e-12, 10000, True)"
   ]
  },
  {
   "cell_type": "code",
   "execution_count": 25,
   "metadata": {},
   "outputs": [
    {
     "name": "stdout",
     "output_type": "stream",
     "text": [
      "[[ 1.  1.  1. ...,  1.  1.  1.]\n",
      " [ 1.  1.  1. ...,  1.  1.  1.]\n",
      " [ 1.  1.  1. ...,  1.  1.  1.]\n",
      " ..., \n",
      " [ 1.  1.  1. ...,  1.  1.  1.]\n",
      " [ 1.  1.  1. ...,  1.  1.  1.]\n",
      " [ 1.  1.  1. ...,  1.  1.  1.]]\n"
     ]
    }
   ],
   "source": [
    "print sols"
   ]
  },
  {
   "cell_type": "code",
   "execution_count": 26,
   "metadata": {},
   "outputs": [
    {
     "name": "stdout",
     "output_type": "stream",
     "text": [
      "[-1. -1. -1. -1. -1. -1. -1.  1.  1. -1. -1. -1. -1.  1.  1.  1. -1. -1.\n",
      " -1.  1. -1.  1.  1. -1.  1.  1. -1.  1. -1. -1. -1.  1.  1.  1.  1.  1.\n",
      " -1. -1. -1. -1.]\n",
      "-212.436679919\n"
     ]
    }
   ],
   "source": [
    "spins = extractSpins(sols)\n",
    "print spins\n",
    "\n",
    "print 0.5*np.sum(np.outer(spins, spins)*H)"
   ]
  },
  {
   "cell_type": "code",
   "execution_count": 27,
   "metadata": {},
   "outputs": [
    {
     "data": {
      "image/png": "[encoded data removed]",
      "text/plain": [
       "<matplotlib.figure.Figure at 0x7f7c56687710>"
      ]
     },
     "metadata": {},
     "output_type": "display_data"
    }
   ],
   "source": [
    "plt.plot(errors)\n",
    "plt.show()"
   ]
  },
  {
   "cell_type": "markdown",
   "metadata": {},
   "source": [
    "Fantastic. We are capable of reaching a reasonably low energy.\n",
    "\n",
    "How low can we expect to go?"
   ]
  },
  {
   "cell_type": "markdown",
   "metadata": {},
   "source": [
    "### How low can we go?\n",
    "\n",
    "Well, the below calculation gives the standard deviation of a \"typical\" set of spins."
   ]
  },
  {
   "cell_type": "code",
   "execution_count": 30,
   "metadata": {},
   "outputs": [
    {
     "name": "stdout",
     "output_type": "stream",
     "text": [
      "39.9191932285\n"
     ]
    }
   ],
   "source": [
    "var =  np.sum(H*H)/(40*39)\n",
    "num =  20*39. #Free variables in this thing.\n",
    "\n",
    "sig = (num*var)**0.5\n",
    "\n",
    "print sig\n",
    "\n"
   ]
  },
  {
   "cell_type": "markdown",
   "metadata": {},
   "source": [
    "What we really have is a Gumbel distribution, with $2^{40}$ samples.\n",
    "\n",
    "We can approximate the minimum expected value in two common ways: the inverse error function, or with an estimate that's abundant online.\n"
   ]
  },
  {
   "cell_type": "code",
   "execution_count": 96,
   "metadata": {},
   "outputs": [
    {
     "name": "stdout",
     "output_type": "stream",
     "text": [
      "-297.262057598\n",
      "-281.338508362\n"
     ]
    }
   ],
   "source": [
    "exp = 0 - sig*np.sqrt(2*40*math.log(2))\n",
    "print exp\n",
    "\n",
    "from scipy.special import erfinv\n",
    "\n",
    "exp2 = sig*np.sqrt(2)*erfinv(-1+(2**(-39)))\n",
    "print exp2"
   ]
  },
  {
   "cell_type": "markdown",
   "metadata": {},
   "source": [
    "Let's go for that target."
   ]
  },
  {
   "cell_type": "code",
   "execution_count": 55,
   "metadata": {
    "collapsed": true
   },
   "outputs": [],
   "source": [
    "target = -205\n",
    "\n",
    "A = semiDefProject(2*np.random.rand(n, n)-1)\n",
    "\n",
    "Y, errors, sols = RRR(A, \n",
    "                    lambda x: lowerBoundProject(x, H, 2*target), \n",
    "                    spinGlassProject,\n",
    "                    0.5, 1e-12, 50000, True)"
   ]
  },
  {
   "cell_type": "code",
   "execution_count": 56,
   "metadata": {},
   "outputs": [
    {
     "name": "stdout",
     "output_type": "stream",
     "text": [
      "[-1.  1.  1. -1.  1. -1. -1.  1. -1.  1. -1. -1. -1.  1.  1.  1. -1. -1.\n",
      "  1.  1. -1.  1.  1. -1. -1.  1. -1. -1. -1. -1.  1.  1.  1. -1. -1.  1.\n",
      " -1. -1. -1. -1.]\n",
      "-210.046002488\n"
     ]
    },
    {
     "data": {
      "image/png": "[encoded data removed]",
      "text/plain": [
       "<matplotlib.figure.Figure at 0x7f7c3d4aaf90>"
      ]
     },
     "metadata": {},
     "output_type": "display_data"
    }
   ],
   "source": [
    "spins = extractSpins(sols)\n",
    "\n",
    "print spins\n",
    "\n",
    "print 0.5*np.sum(np.outer(spins, spins)*H)\n",
    "\n",
    "plt.plot(errors)\n",
    "plt.show()"
   ]
  },
  {
   "cell_type": "markdown",
   "metadata": {},
   "source": [
    "Clearly, we can go fairly low -- we have a $-212$ and a $-210$ already. Let's keep going."
   ]
  },
  {
   "cell_type": "code",
   "execution_count": 80,
   "metadata": {
    "collapsed": true
   },
   "outputs": [],
   "source": [
    "target = -205\n",
    "\n",
    "A = semiDefProject(2*np.random.rand(n, n)-1)\n",
    "\n",
    "Y, errors, sols = RRR(A, \n",
    "                    lambda x: lowerBoundProject(x, H, 2*target), \n",
    "                    spinGlassProject,\n",
    "                    0.5, 1e-12, 10000, True)"
   ]
  },
  {
   "cell_type": "code",
   "execution_count": 81,
   "metadata": {},
   "outputs": [
    {
     "name": "stdout",
     "output_type": "stream",
     "text": [
      "[-1. -1.  1. -1.  1. -1. -1.  1. -1.  1. -1. -1. -1.  1.  1.  1. -1. -1.\n",
      "  1.  1. -1.  1.  1. -1.  1.  1. -1. -1. -1. -1.  1.  1.  1. -1.  1.  1.\n",
      " -1. -1. -1. -1.]\n",
      "-218.06824561\n"
     ]
    },
    {
     "data": {
      "image/png": "[encoded data removed]",
      "text/plain": [
       "<matplotlib.figure.Figure at 0x7f7c3d040610>"
      ]
     },
     "metadata": {},
     "output_type": "display_data"
    }
   ],
   "source": [
    "spins = extractSpins(sols)\n",
    "\n",
    "print spins\n",
    "\n",
    "print 0.5*np.sum(np.outer(spins, spins)*H)\n",
    "\n",
    "plt.plot(errors)\n",
    "plt.show()"
   ]
  },
  {
   "cell_type": "markdown",
   "metadata": {},
   "source": [
    "Lowest yet!\n",
    "\n",
    "Anything further?"
   ]
  },
  {
   "cell_type": "code",
   "execution_count": 111,
   "metadata": {},
   "outputs": [
    {
     "name": "stdout",
     "output_type": "stream",
     "text": [
      "Warning: maximum iterations exceeded, no convergence\n"
     ]
    }
   ],
   "source": [
    "target = -260\n",
    "\n",
    "A = semiDefProject(2*np.random.rand(n, n)-1)\n",
    "\n",
    "Y, errors, sols = RRR(A, \n",
    "                    lambda x: lowerBoundProject(x, H, 2*target), \n",
    "                    spinGlassProject,\n",
    "                    0.5, 1e-12, 500, True)"
   ]
  },
  {
   "cell_type": "code",
   "execution_count": 112,
   "metadata": {},
   "outputs": [
    {
     "name": "stdout",
     "output_type": "stream",
     "text": [
      "[-1.  1.  1. -1.  1. -1. -1.  1. -1.  1. -1. -1. -1.  1.  1.  1. -1. -1.\n",
      "  1.  1. -1.  1.  1.  1.  1. -1. -1. -1. -1. -1.  1. -1.  1. -1. -1.  1.\n",
      " -1. -1. -1. -1.]\n",
      "-217.19843627\n"
     ]
    },
    {
     "data": {
      "image/png": "[encoded data removed]",
      "text/plain": [
       "<matplotlib.figure.Figure at 0x7f7c3d1a6290>"
      ]
     },
     "metadata": {},
     "output_type": "display_data"
    }
   ],
   "source": [
    "spins = extractSpins(sols)\n",
    "\n",
    "print spins\n",
    "\n",
    "print 0.5*np.sum(np.outer(spins, spins)*H)\n",
    "\n",
    "plt.plot(errors)\n",
    "plt.show()"
   ]
  },
  {
   "cell_type": "markdown",
   "metadata": {},
   "source": [
    "Something else close. Before moving on, let's keep this one."
   ]
  },
  {
   "cell_type": "code",
   "execution_count": 164,
   "metadata": {},
   "outputs": [
    {
     "name": "stdout",
     "output_type": "stream",
     "text": [
      "Warning: maximum iterations exceeded, no convergence\n"
     ]
    }
   ],
   "source": [
    "target = -240\n",
    "\n",
    "A = semiDefProject(2*np.random.rand(n, n)-1)\n",
    "\n",
    "Y, errors, sols = RRR(A, \n",
    "                    lambda x: lowerBoundProject(x, H, 2*target), \n",
    "                    spinGlassProject,\n",
    "                    0.01, 1e-12, 20000, True)"
   ]
  },
  {
   "cell_type": "code",
   "execution_count": 165,
   "metadata": {},
   "outputs": [
    {
     "name": "stdout",
     "output_type": "stream",
     "text": [
      "[-1.  1.  1. -1. -1.  1. -1.  1. -1.  1. -1.  1.  1. -1.  1.  1. -1. -1.\n",
      "  1.  1. -1.  1.  1.  1.  1. -1. -1.  1. -1. -1. -1. -1. -1. -1. -1.  1.\n",
      " -1. -1. -1. -1.]\n",
      "-172.434860228\n"
     ]
    },
    {
     "data": {
      "image/png": "[encoded data removed]",
      "text/plain": [
       "<matplotlib.figure.Figure at 0x7f7c32f8d210>"
      ]
     },
     "metadata": {},
     "output_type": "display_data"
    }
   ],
   "source": [
    "spins = extractSpins(sols)\n",
    "\n",
    "print spins\n",
    "\n",
    "print 0.5*np.sum(np.outer(spins, spins)*H)\n",
    "plt.plot(errors)\n",
    "plt.show()"
   ]
  },
  {
   "cell_type": "markdown",
   "metadata": {},
   "source": [
    "This is definitely not what we want.\n",
    "\n",
    "It should be noted that there is an attractor for routines that do not converge. They seem to really like a certain arrangement of spins, and stay there for a while:"
   ]
  },
  {
   "cell_type": "code",
   "execution_count": 166,
   "metadata": {},
   "outputs": [
    {
     "name": "stdout",
     "output_type": "stream",
     "text": [
      "Warning: maximum iterations exceeded, no convergence\n"
     ]
    }
   ],
   "source": [
    "target = -240\n",
    "\n",
    "A = semiDefProject(2*np.random.rand(n, n)-1)\n",
    "\n",
    "Y, errors, sols = RRR(A, \n",
    "                    lambda x: lowerBoundProject(x, H, 2*target), \n",
    "                    spinGlassProject,\n",
    "                    0.5, 1e-12, 10000, True)"
   ]
  },
  {
   "cell_type": "code",
   "execution_count": 167,
   "metadata": {},
   "outputs": [
    {
     "name": "stdout",
     "output_type": "stream",
     "text": [
      "[-1.  1.  1.  1.  1.  1. -1. -1. -1.  1.  1.  1. -1.  1. -1.  1. -1. -1.\n",
      "  1. -1. -1.  1.  1. -1.  1.  1.  1.  1.  1.  1.  1.  1. -1.  1.  1.  1.\n",
      "  1. -1.  1. -1.]\n",
      "236.561109487\n"
     ]
    },
    {
     "data": {
      "image/png": "[encoded data removed]",
      "text/plain": [
       "<matplotlib.figure.Figure at 0x7f7c33081ad0>"
      ]
     },
     "metadata": {},
     "output_type": "display_data"
    }
   ],
   "source": [
    "spins = extractSpins(sols)\n",
    "\n",
    "print spins\n",
    "\n",
    "print 0.5*np.sum(np.outer(spins, spins)*H)\n",
    "plt.plot(errors)\n",
    "plt.show()"
   ]
  },
  {
   "cell_type": "markdown",
   "metadata": {},
   "source": [
    "This arrangement, and the energy $236.6$, came up very frequently when the problem did not converge.\n",
    "\n",
    "I suspect this happens when $Y$ get's launched out of the problem space, and is projected on the nearest point of the convex hull."
   ]
  },
  {
   "cell_type": "markdown",
   "metadata": {},
   "source": [
    "## Conclusion\n",
    "\n",
    "There is clearly work to be done. There is a significant gap between the lowest expected energy and the states I am finding.\n",
    "\n",
    "I do not think that I came close to the complete solution, at all. However, it should be noted that the ground energies I found -- $-217, -218$ -- are much better than random search, which cannot find anything below $-200$."
   ]
  },
  {
   "cell_type": "code",
   "execution_count": null,
   "metadata": {
    "collapsed": true
   },
   "outputs": [],
   "source": []
  }
 ],
 "metadata": {
  "kernelspec": {
   "display_name": "Python 2",
   "language": "python",
   "name": "python2"
  },
  "language_info": {
   "codemirror_mode": {
    "name": "ipython",
    "version": 2
   },
   "file_extension": ".py",
   "mimetype": "text/x-python",
   "name": "python",
   "nbconvert_exporter": "python",
   "pygments_lexer": "ipython2",
   "version": "2.7.14"
  }
 },
 "nbformat": 4,
 "nbformat_minor": 2
}
