{
 "cells": [
  {
   "cell_type": "markdown",
   "metadata": {},
   "source": [
    "This is just an agglomeration of functions written in the python files.\n",
    "\n",
    "Here we load the projections and verify that they work."
   ]
  },
  {
   "cell_type": "code",
   "execution_count": 11,
   "metadata": {},
   "outputs": [
    {
     "name": "stdout",
     "output_type": "stream",
     "text": [
      "[[ 0.93200205  0.0872869   0.31023047]\n",
      " [ 0.0872869   0.45148822  0.16124838]\n",
      " [ 0.31023047  0.16124838  0.8728903 ]]\n",
      "[[ 0.99756481 -0.04618794  0.01720265]\n",
      " [-0.04618794  0.12395813  0.32628084]\n",
      " [ 0.01720265  0.32628084  0.87847705]]\n",
      "[[ 1.          0.0872869   0.31023047]\n",
      " [ 0.0872869   1.          0.16124838]\n",
      " [ 0.31023047  0.16124838  1.        ]]\n",
      "[[ 0.93200205  0.0872869   0.31023047]\n",
      " [ 0.0872869   0.45148822  0.16124838]\n",
      " [ 0.31023047  0.16124838  0.8728903 ]]\n"
     ]
    }
   ],
   "source": [
    "from RRR import *\n",
    "from kissProject import *\n",
    "from rankProject import *\n",
    "\n",
    "d = 2\n",
    "k = 3\n",
    "\n",
    "X = semiDefProject(np.random.rand(k, k))\n",
    "print X\n",
    "print rankProject(X, 2, True)\n",
    "print kissProject(X)\n",
    "print X"
   ]
  },
  {
   "cell_type": "markdown",
   "metadata": {
    "collapsed": true
   },
   "source": [
    "Next, we run RRR, using these projections."
   ]
  },
  {
   "cell_type": "code",
   "execution_count": 12,
   "metadata": {},
   "outputs": [
    {
     "name": "stdout",
     "output_type": "stream",
     "text": [
      "Warning: maximum iterations exceeded, no convergence\n"
     ]
    },
    {
     "data": {
      "image/png": "[encoded data removed]",
      "text/plain": [
       "<matplotlib.figure.Figure at 0x7ffa9b4d1110>"
      ]
     },
     "metadata": {},
     "output_type": "display_data"
    },
    {
     "name": "stdout",
     "output_type": "stream",
     "text": [
      "[[ 0.93200205  0.0872869   0.31023047]\n",
      " [ 0.0872869   0.45148822  0.16124838]\n",
      " [ 0.31023047  0.16124838  0.8728903 ]]\n",
      "[[ -1.66591454e+03  -3.33333333e-01   3.33333333e-01]\n",
      " [ -3.33333333e-01  -1.66591454e+03   3.33333333e-01]\n",
      " [  3.33333333e-01   3.33333333e-01  -1.66591454e+03]]\n",
      "[[ 0.66666667 -0.33333333  0.33333333]\n",
      " [-0.33333333  0.66666667  0.33333333]\n",
      " [ 0.33333333  0.33333333  0.66666667]]\n"
     ]
    }
   ],
   "source": [
    "Y, errors, sols = RRR(X, lambda x: rankProject(x, d, True), kissProject)\n",
    "\n",
    "plt.plot(errors)\n",
    "plt.show()\n",
    "print X\n",
    "print Y\n",
    "print sols"
   ]
  },
  {
   "cell_type": "markdown",
   "metadata": {},
   "source": [
    "I'm close! Something is wrong, I need to debug."
   ]
  },
  {
   "cell_type": "code",
   "execution_count": null,
   "metadata": {
    "collapsed": true
   },
   "outputs": [],
   "source": []
  }
 ],
 "metadata": {
  "kernelspec": {
   "display_name": "Python 2",
   "language": "python",
   "name": "python2"
  },
  "language_info": {
   "codemirror_mode": {
    "name": "ipython",
    "version": 2
   },
   "file_extension": ".py",
   "mimetype": "text/x-python",
   "name": "python",
   "nbconvert_exporter": "python",
   "pygments_lexer": "ipython2",
   "version": "2.7.14"
  }
 },
 "nbformat": 4,
 "nbformat_minor": 2
}
