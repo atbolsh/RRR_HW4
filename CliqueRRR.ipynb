{
 "cells": [
  {
   "cell_type": "markdown",
   "metadata": {},
   "source": [
    "This notebook is just for showcasing. The heavy lifting is in the referenced python files, which are attached\n",
    "\n",
    "### Loading and testing\n",
    "\n",
    "Let's load the files.\n",
    "\n",
    "The projections have already been tested, so let's try running RRR on a small, 5 vertex graph."
   ]
  },
  {
   "cell_type": "code",
   "execution_count": 1,
   "metadata": {},
   "outputs": [
    {
     "name": "stdout",
     "output_type": "stream",
     "text": [
      "[[ 0.27828972  0.54527552  0.50751952  0.57112457  0.43518374]\n",
      " [ 0.54527552  0.99008533  0.53400157  0.64893321  0.03219829]\n",
      " [ 0.50751952  0.53400157  0.50409203  0.66650193  0.33443548]\n",
      " [ 0.57112457  0.64893321  0.66650193  0.82681752  0.46673994]\n",
      " [ 0.43518374  0.03219829  0.33443548  0.46673994  0.27211959]]\n"
     ]
    }
   ],
   "source": [
    "from RRR import *\n",
    "from rankProject import *\n",
    "from cliqueProject import *\n",
    "\n",
    "n = 5\n",
    "\n",
    "H = np.array(\n",
    "    [[0, 1, 1, 1, 1],\n",
    "    [1, 0, 1, 0, 0],\n",
    "    [1, 1, 0, 0, 0],\n",
    "    [1, 0, 0, 0, 0],\n",
    "    [1, 0, 0, 0, 0]])\n",
    "\n",
    "A = semiDefProject(np.random.rand(n, n))\n",
    "\n",
    "print A"
   ]
  },
  {
   "cell_type": "markdown",
   "metadata": {},
   "source": [
    "Let's try $k = 3$, which should yield a clique."
   ]
  },
  {
   "cell_type": "code",
   "execution_count": 7,
   "metadata": {
    "collapsed": true
   },
   "outputs": [],
   "source": [
    "k = 3\n",
    "\n",
    "Y, errors, sols = RRR(A, \n",
    "                    lambda x: cliqueProject(x, k, H), \n",
    "                    lambda x: rankProject(x, 1, False),\n",
    "                    0.5, 1e-12, 10000, True)"
   ]
  },
  {
   "cell_type": "code",
   "execution_count": 8,
   "metadata": {},
   "outputs": [
    {
     "data": {
      "image/png": "[encoded data removed]",
      "text/plain": [
       "<matplotlib.figure.Figure at 0x7fb7a4fc1910>"
      ]
     },
     "metadata": {},
     "output_type": "display_data"
    }
   ],
   "source": [
    "plt.plot(errors)\n",
    "plt.show()\n"
   ]
  },
  {
   "cell_type": "code",
   "execution_count": 9,
   "metadata": {},
   "outputs": [
    {
     "name": "stdout",
     "output_type": "stream",
     "text": [
      "[ 1.  1.  1.  0.  0.]\n"
     ]
    }
   ],
   "source": [
    "print np.round(extractClique(sols), 8)\n",
    "\n",
    "#print sols\n",
    "#print H\n",
    "#print eig(sols)[0]\n",
    "\n",
    "\n",
    "#print eig(rankProject(Y, 1, False))[0]\n",
    "\n",
    "#print np.round(rankProject(Y, 1, False), 4)\n",
    "#print np.round(cliqueProject(Y, 3, H), 4)"
   ]
  },
  {
   "cell_type": "markdown",
   "metadata": {},
   "source": [
    "As desired, the algorithm quickly found the correct solution.\n",
    "\n",
    "If we set $k$ too high, of course, it will just thrash."
   ]
  },
  {
   "cell_type": "code",
   "execution_count": 10,
   "metadata": {},
   "outputs": [
    {
     "name": "stdout",
     "output_type": "stream",
     "text": [
      "Warning: maximum iterations exceeded, no convergence\n"
     ]
    }
   ],
   "source": [
    "k = 4\n",
    "\n",
    "Y, errors, sols = RRR(A, \n",
    "                    lambda x: cliqueProject(x, k, H), \n",
    "                    lambda x: rankProject(x, 1, False),\n",
    "                    0.5, 1e-12, 10000, True)"
   ]
  },
  {
   "cell_type": "code",
   "execution_count": 11,
   "metadata": {},
   "outputs": [
    {
     "data": {
      "image/png": "[encoded data removed]",
      "text/plain": [
       "<matplotlib.figure.Figure at 0x7fb77fcde510>"
      ]
     },
     "metadata": {},
     "output_type": "display_data"
    }
   ],
   "source": [
    "plt.plot(errors)\n",
    "plt.show()\n",
    "\n"
   ]
  },
  {
   "cell_type": "markdown",
   "metadata": {},
   "source": [
    "However, if we do have a $4$ clique, everything works out again:"
   ]
  },
  {
   "cell_type": "code",
   "execution_count": 12,
   "metadata": {
    "collapsed": true
   },
   "outputs": [],
   "source": [
    "H = np.array(\n",
    "    [[0, 1, 1, 1, 1],\n",
    "    [1, 0, 1, 1, 0],\n",
    "    [1, 1, 0, 1, 0],\n",
    "    [1, 1, 1, 0, 0],\n",
    "    [1, 0, 0, 0, 0]])\n",
    "\n",
    "k = 4\n",
    "\n",
    "Y, errors, sols = RRR(A, \n",
    "                    lambda x: cliqueProject(x, k, H), \n",
    "                    lambda x: rankProject(x, 1, False),\n",
    "                    0.5, 1e-12, 10000, True)"
   ]
  },
  {
   "cell_type": "code",
   "execution_count": 13,
   "metadata": {},
   "outputs": [
    {
     "data": {
      "image/png": "[encoded data removed]",
      "text/plain": [
       "<matplotlib.figure.Figure at 0x7fb77fb77550>"
      ]
     },
     "metadata": {},
     "output_type": "display_data"
    },
    {
     "name": "stdout",
     "output_type": "stream",
     "text": [
      "[ 1.  1.  1.  1.  0.]\n"
     ]
    }
   ],
   "source": [
    "plt.plot(errors)\n",
    "plt.show()\n",
    "\n",
    "print np.round(extractClique(sols), 8)"
   ]
  },
  {
   "cell_type": "markdown",
   "metadata": {},
   "source": [
    "Fantastic! On to the real problem, which takes more than $40$ iterations."
   ]
  },
  {
   "cell_type": "markdown",
   "metadata": {},
   "source": [
    "### Loading the data, and running the code again.\n",
    "\n",
    "First, we will load the data. Then, we will start experimenting, looking for good values of $k$."
   ]
  },
  {
   "cell_type": "code",
   "execution_count": null,
   "metadata": {
    "collapsed": true
   },
   "outputs": [],
   "source": []
  }
 ],
 "metadata": {
  "kernelspec": {
   "display_name": "Python 2",
   "language": "python",
   "name": "python2"
  },
  "language_info": {
   "codemirror_mode": {
    "name": "ipython",
    "version": 2
   },
   "file_extension": ".py",
   "mimetype": "text/x-python",
   "name": "python",
   "nbconvert_exporter": "python",
   "pygments_lexer": "ipython2",
   "version": "2.7.14"
  }
 },
 "nbformat": 4,
 "nbformat_minor": 2
}
