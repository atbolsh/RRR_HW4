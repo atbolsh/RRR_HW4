{
 "cells": [
  {
   "cell_type": "markdown",
   "metadata": {},
   "source": [
    "This notebook is just for showcasing. The heavy lifting is in the referenced python files, which are attached\n",
    "\n",
    "### Loading and testing\n",
    "\n",
    "Let's load the files.\n",
    "\n",
    "The projections have already been tested, so let's try running RRR on a small, 5 vertex graph."
   ]
  },
  {
   "cell_type": "code",
   "execution_count": 1,
   "metadata": {},
   "outputs": [
    {
     "name": "stdout",
     "output_type": "stream",
     "text": [
      "[[ 0.74898253  0.68560315  0.53026984  0.53143793  0.60668445]\n",
      " [ 0.68560315  0.88109344  0.30792235  0.46922854  0.44142195]\n",
      " [ 0.53026984  0.30792235  0.28376392  0.47602041  0.26655964]\n",
      " [ 0.53143793  0.46922854  0.47602041  0.47692332  0.20668791]\n",
      " [ 0.60668445  0.44142195  0.26655964  0.20668791  0.44009071]]\n"
     ]
    }
   ],
   "source": [
    "from RRR import *\n",
    "from rankProject import *\n",
    "from cliqueProject import *\n",
    "\n",
    "n = 5\n",
    "\n",
    "H = np.array(\n",
    "    [[0, 1, 1, 1, 1],\n",
    "    [1, 0, 1, 0, 0],\n",
    "    [1, 1, 0, 0, 0],\n",
    "    [1, 0, 0, 0, 0],\n",
    "    [1, 0, 0, 0, 0]])\n",
    "\n",
    "A = semiDefProject(np.random.rand(n, n))\n",
    "\n",
    "print A"
   ]
  },
  {
   "cell_type": "markdown",
   "metadata": {},
   "source": [
    "Let's try $k = 3$, which should yield a clique."
   ]
  },
  {
   "cell_type": "code",
   "execution_count": 2,
   "metadata": {
    "collapsed": true
   },
   "outputs": [],
   "source": [
    "k = 3\n",
    "\n",
    "Y, errors, sols = RRR(A, \n",
    "                    lambda x: cliqueProject(x, k, H), \n",
    "                    lambda x: rankProject(x, 1, False),\n",
    "                    0.5, 1e-12, 10000, True)"
   ]
  },
  {
   "cell_type": "code",
   "execution_count": 3,
   "metadata": {},
   "outputs": [
    {
     "data": {
      "image/png": "[encoded data removed]",
      "text/plain": [
       "<matplotlib.figure.Figure at 0x7fa26e067e50>"
      ]
     },
     "metadata": {},
     "output_type": "display_data"
    }
   ],
   "source": [
    "plt.plot(errors)\n",
    "plt.show()\n"
   ]
  },
  {
   "cell_type": "code",
   "execution_count": 4,
   "metadata": {},
   "outputs": [
    {
     "name": "stdout",
     "output_type": "stream",
     "text": [
      "[0 1 2]\n"
     ]
    }
   ],
   "source": [
    "print extractClique(sols)\n",
    "\n",
    "#print sols\n",
    "#print H\n",
    "#print eig(sols)[0]\n",
    "\n",
    "\n",
    "#print eig(rankProject(Y, 1, False))[0]\n",
    "\n",
    "#print np.round(rankProject(Y, 1, False), 4)\n",
    "#print np.round(cliqueProject(Y, 3, H), 4)"
   ]
  },
  {
   "cell_type": "markdown",
   "metadata": {},
   "source": [
    "As desired, the algorithm quickly found the correct solution.\n",
    "\n",
    "If we set $k$ too high, of course, it will just thrash."
   ]
  },
  {
   "cell_type": "code",
   "execution_count": 5,
   "metadata": {},
   "outputs": [
    {
     "name": "stdout",
     "output_type": "stream",
     "text": [
      "Warning: maximum iterations exceeded, no convergence\n"
     ]
    }
   ],
   "source": [
    "k = 4\n",
    "\n",
    "Y, errors, sols = RRR(A, \n",
    "                    lambda x: cliqueProject(x, k, H), \n",
    "                    lambda x: rankProject(x, 1, False),\n",
    "                    0.5, 1e-12, 10000, True)"
   ]
  },
  {
   "cell_type": "code",
   "execution_count": 6,
   "metadata": {},
   "outputs": [
    {
     "data": {
      "image/png": "[encoded data removed]",
      "text/plain": [
       "<matplotlib.figure.Figure at 0x7fa265f95c50>"
      ]
     },
     "metadata": {},
     "output_type": "display_data"
    }
   ],
   "source": [
    "plt.plot(errors)\n",
    "plt.show()\n",
    "\n"
   ]
  },
  {
   "cell_type": "markdown",
   "metadata": {},
   "source": [
    "However, if we do have a $4$ clique, everything works out again:"
   ]
  },
  {
   "cell_type": "code",
   "execution_count": 7,
   "metadata": {
    "collapsed": true
   },
   "outputs": [],
   "source": [
    "H = np.array(\n",
    "    [[0, 1, 1, 1, 1],\n",
    "    [1, 0, 1, 1, 0],\n",
    "    [1, 1, 0, 1, 0],\n",
    "    [1, 1, 1, 0, 0],\n",
    "    [1, 0, 0, 0, 0]])\n",
    "\n",
    "k = 4\n",
    "\n",
    "Y, errors, sols = RRR(A, \n",
    "                    lambda x: cliqueProject(x, k, H), \n",
    "                    lambda x: rankProject(x, 1, False),\n",
    "                    0.5, 1e-12, 10000, True)"
   ]
  },
  {
   "cell_type": "code",
   "execution_count": 8,
   "metadata": {},
   "outputs": [
    {
     "data": {
      "image/png": "[encoded data removed]",
      "text/plain": [
       "<matplotlib.figure.Figure at 0x7fa265f207d0>"
      ]
     },
     "metadata": {},
     "output_type": "display_data"
    },
    {
     "name": "stdout",
     "output_type": "stream",
     "text": [
      "[0 1 2 3]\n"
     ]
    }
   ],
   "source": [
    "plt.plot(errors)\n",
    "plt.show()\n",
    "\n",
    "print extractClique(sols)"
   ]
  },
  {
   "cell_type": "markdown",
   "metadata": {},
   "source": [
    "Fantastic! On to the real problem, which takes more than $40$ iterations."
   ]
  },
  {
   "cell_type": "markdown",
   "metadata": {},
   "source": [
    "### Loading the data, and running the code again.\n",
    "\n",
    "First, we will load the data. Then, we will start experimenting, looking for good values of $k$."
   ]
  },
  {
   "cell_type": "code",
   "execution_count": 9,
   "metadata": {},
   "outputs": [
    {
     "name": "stdout",
     "output_type": "stream",
     "text": [
      "(125, 125)\n",
      "[ 1.  1.  1.  1.  1.  0.  1.  1.  1.  1.  1.  1.  1.  1.  1.  1.  1.  1.\n",
      "  1.  1.  1.  1.  1.  1.  1.  1.  0.  1.  1.  1.  1.  1.  1.  1.  1.  1.\n",
      "  1.  1.  1.  1.  0.  1.  0.  1.  1.  1.  1.  1.  1.  1.  0.  1.  1.  1.\n",
      "  1.  1.  1.  1.  1.  1.  1.  1.  1.  1.  1.  1.  1.  1.  1.  1.  1.  1.\n",
      "  1.  1.  1.  1.  1.  1.  1.  1.  1.  1.  0.  1.  1.  1.  1.  1.  1.  1.\n",
      "  1.  1.  1.  1.  0.  1.  1.  1.  1.  0.  1.  1.  1.  1.  1.  1.  1.  1.\n",
      "  1.  1.  1.  1.  1.  1.  1.  1.  1.  1.  1.  1.  1.  1.  1.  1.  0.]\n"
     ]
    }
   ],
   "source": [
    "n = 125\n",
    "\n",
    "from graphReader import getGraph\n",
    "H = getGraph()\n",
    "\n",
    "print H.shape\n",
    "print H[-1]"
   ]
  },
  {
   "cell_type": "markdown",
   "metadata": {},
   "source": [
    "Let's first be modest an set $k = 5$."
   ]
  },
  {
   "cell_type": "code",
   "execution_count": 10,
   "metadata": {
    "collapsed": true
   },
   "outputs": [],
   "source": [
    "k = 5\n",
    "\n",
    "A = semiDefProject(np.random.rand(n, n))\n",
    "\n",
    "Y, errors, sols = RRR(A, \n",
    "                    lambda x: cliqueProject(x, k, H), \n",
    "                    lambda x: rankProject(x, 1, False),\n",
    "                    0.5, 1e-12, 10000, True)"
   ]
  },
  {
   "cell_type": "code",
   "execution_count": 12,
   "metadata": {},
   "outputs": [
    {
     "data": {
      "image/png": "[encoded data removed]",
      "text/plain": [
       "<matplotlib.figure.Figure at 0x7fa265f41610>"
      ]
     },
     "metadata": {},
     "output_type": "display_data"
    },
    {
     "name": "stdout",
     "output_type": "stream",
     "text": [
      "[  0   9  15 104 123]\n"
     ]
    }
   ],
   "source": [
    "plt.plot(errors)\n",
    "plt.show()\n",
    "#print np.sum(np.round(cliqueProject(Y, k, H), 8))\n",
    "\n",
    "print extractClique(sols)\n"
   ]
  },
  {
   "cell_type": "markdown",
   "metadata": {
    "collapsed": true
   },
   "source": [
    "But is this clique unique? Let's find out by running the algorithm with a different seed."
   ]
  },
  {
   "cell_type": "code",
   "execution_count": 13,
   "metadata": {
    "collapsed": true
   },
   "outputs": [],
   "source": [
    "A = semiDefProject(np.random.rand(n, n))\n",
    "\n",
    "Y, errors, sols = RRR(A, \n",
    "                    lambda x: cliqueProject(x, k, H), \n",
    "                    lambda x: rankProject(x, 1, False),\n",
    "                    0.5, 1e-12, 10000, True)"
   ]
  },
  {
   "cell_type": "code",
   "execution_count": 14,
   "metadata": {},
   "outputs": [
    {
     "data": {
      "image/png": "[encoded data removed]",
      "text/plain": [
       "<matplotlib.figure.Figure at 0x7fa265e331d0>"
      ]
     },
     "metadata": {},
     "output_type": "display_data"
    },
    {
     "name": "stdout",
     "output_type": "stream",
     "text": [
      "[ 3 38 40 45 52]\n"
     ]
    }
   ],
   "source": [
    "plt.plot(errors)\n",
    "plt.show()\n",
    "print extractClique(sols)"
   ]
  },
  {
   "cell_type": "markdown",
   "metadata": {},
   "source": [
    "Clearly not.\n",
    "\n",
    "Let's set more ambitious targets for $k$. The data file said that the edge probability is $0.9$\n",
    "\n",
    "That means that the probability of set of size $k$ to be a clique is \n",
    "$$\n",
    "P_{c} = 0.9^{k(k-1)/2},\n",
    "$$\n",
    "so the total expected number of such cliques is\n",
    "$$\n",
    "N_c = {125\\choose k}0.9^{k(k-1)/2} ~ \n",
    "$$"
   ]
  },
  {
   "cell_type": "code",
   "execution_count": 21,
   "metadata": {},
   "outputs": [
    {
     "data": {
      "image/png": "[encoded data removed]",
      "text/plain": [
       "<matplotlib.figure.Figure at 0x7fa25b869f10>"
      ]
     },
     "metadata": {},
     "output_type": "display_data"
    }
   ],
   "source": [
    "from scipy.special import binom\n",
    "import math\n",
    "\n",
    "def Nc(k):\n",
    "    return binom(125, k)*(0.9**(k*(k-1)*0.5))\n",
    "\n",
    "ks = range(40)\n",
    "Ns = [Nc(k) for k in ks]\n",
    "lNs = [math.log(N)/math.log(10) for N in Ns]\n",
    "plt.plot(ks, lNs)\n",
    "plt.plot(ks, [0 for k in ks])\n",
    "plt.xlabel(\"k\")\n",
    "plt.ylabel(\"log Nc\")\n",
    "plt.show()"
   ]
  },
  {
   "cell_type": "markdown",
   "metadata": {},
   "source": [
    "Here are some values of $N_c$ for $k$ in the high 30s:\n",
    "$$\n",
    "\\begin{matrix}\n",
    "36 && 460 \\\\\n",
    "37 && 25 \\\\\n",
    "38 && 1.2 \\\\\n",
    "39 && 0.05\n",
    "\\end{matrix}\n",
    "$$\n",
    "\n",
    "Note that $N_c$ comes with high variance bars. Therefore, it is reasonable to expect a max clique somewhere in the high 30s.\n",
    "\n",
    "Let's start with something less ambitious: $k = 20$, which nearly maximizes $N_c$:"
   ]
  },
  {
   "cell_type": "code",
   "execution_count": 16,
   "metadata": {},
   "outputs": [],
   "source": [
    "k = 20\n",
    "\n",
    "A = semiDefProject(np.random.rand(n, n))\n",
    "\n",
    "Y, errors, sols = RRR(A, \n",
    "                    lambda x: cliqueProject(x, k, H), \n",
    "                    lambda x: rankProject(x, 1, False),\n",
    "                    0.5, 1e-12, 10000, True)"
   ]
  },
  {
   "cell_type": "code",
   "execution_count": 22,
   "metadata": {},
   "outputs": [
    {
     "data": {
      "image/png": "[encoded data removed]",
      "text/plain": [
       "<matplotlib.figure.Figure at 0x7fa265efb9d0>"
      ]
     },
     "metadata": {},
     "output_type": "display_data"
    },
    {
     "name": "stdout",
     "output_type": "stream",
     "text": [
      "[  3   7   9  10  18  27  35  36  38  45  48  66  69  73  88 103 113 115\n",
      " 118 119]\n"
     ]
    }
   ],
   "source": [
    "plt.plot(errors)\n",
    "plt.show()\n",
    "print extractClique(sols)"
   ]
  },
  {
   "cell_type": "markdown",
   "metadata": {},
   "source": [
    "But is it unique?"
   ]
  },
  {
   "cell_type": "code",
   "execution_count": 25,
   "metadata": {},
   "outputs": [],
   "source": [
    "k = 20\n",
    "\n",
    "A = semiDefProject(np.random.rand(n, n))\n",
    "\n",
    "Y, errors, sols = RRR(A, \n",
    "                    lambda x: cliqueProject(x, k, H), \n",
    "                    lambda x: rankProject(x, 1, False),\n",
    "                    0.5, 1e-12, 10000, True)"
   ]
  },
  {
   "cell_type": "code",
   "execution_count": 26,
   "metadata": {},
   "outputs": [
    {
     "data": {
      "image/png": "[encoded data removed]",
      "text/plain": [
       "<matplotlib.figure.Figure at 0x7fa25b720390>"
      ]
     },
     "metadata": {},
     "output_type": "display_data"
    },
    {
     "name": "stdout",
     "output_type": "stream",
     "text": [
      "[  8   9  12  20  22  36  44  48  50  51  55  57  66  76  78  95  98 103\n",
      " 113 116]\n"
     ]
    }
   ],
   "source": [
    "plt.plot(errors)\n",
    "plt.show()\n",
    "print extractClique(sols)\n"
   ]
  },
  {
   "cell_type": "markdown",
   "metadata": {},
   "source": [
    "Clearly not, as is expected.\n",
    "\n",
    "## Excursion for k=33.\n",
    "\n",
    "Let's push the envelope a little. There should be a million cliques of size $k = 33$; let's find one."
   ]
  },
  {
   "cell_type": "code",
   "execution_count": 28,
   "metadata": {},
   "outputs": [],
   "source": [
    "k = 33\n",
    "\n",
    "A = semiDefProject(np.random.rand(n, n))\n",
    "\n",
    "Y, errors, sols = RRR(A, \n",
    "                    lambda x: cliqueProject(x, k, H), \n",
    "                    lambda x: rankProject(x, 1, False),\n",
    "                    0.5, 1e-12, 10000000000, True)"
   ]
  },
  {
   "cell_type": "code",
   "execution_count": 32,
   "metadata": {},
   "outputs": [
    {
     "data": {
      "image/png": "[encoded data removed]",
      "text/plain": [
       "<matplotlib.figure.Figure at 0x7fa25b5c22d0>"
      ]
     },
     "metadata": {},
     "output_type": "display_data"
    },
    {
     "name": "stdout",
     "output_type": "stream",
     "text": [
      "[  6   7  10  18  21  24  33  44  45  47  48  53  55  64  66  67  69  70\n",
      "  73  76  78  79  81  84  95  97 101 103 113 115 116 121 124]\n"
     ]
    }
   ],
   "source": [
    "plt.plot(errors[:5000])\n",
    "plt.show()\n",
    "print extractClique(sols)\n"
   ]
  },
  {
   "cell_type": "markdown",
   "metadata": {},
   "source": [
    "It seems we've found a solution! It didn't take too many iterations, either.\n",
    "\n",
    "Just in case, let's verify it. We should see a \"1\" printed if the set is a clique."
   ]
  },
  {
   "cell_type": "code",
   "execution_count": 30,
   "metadata": {},
   "outputs": [
    {
     "name": "stdout",
     "output_type": "stream",
     "text": [
      "1.0\n"
     ]
    }
   ],
   "source": [
    "def verifyClique(c, H):\n",
    "    r = 1\n",
    "    for i in range(len(c)):\n",
    "        for j in range(i+ 1, len(c)):\n",
    "            r = r*H[c[i], c[j]]\n",
    "    return r\n",
    "\n",
    "print verifyClique(extractClique(sols), H)\n",
    "        "
   ]
  },
  {
   "cell_type": "markdown",
   "metadata": {},
   "source": [
    "Fantastic.\n",
    "\n",
    "I wonder, does a smaller beta have better performance?"
   ]
  },
  {
   "cell_type": "code",
   "execution_count": 34,
   "metadata": {},
   "outputs": [
    {
     "name": "stdout",
     "output_type": "stream",
     "text": [
      "Warning: maximum iterations exceeded, no convergence\n"
     ]
    }
   ],
   "source": [
    "k = 33\n",
    "\n",
    "A = semiDefProject(np.random.rand(n, n))\n",
    "\n",
    "Y, errors, sols = RRR(A, \n",
    "                    lambda x: cliqueProject(x, k, H), \n",
    "                    lambda x: rankProject(x, 1, False),\n",
    "                    0.01, 1e-12, 1000, True)"
   ]
  },
  {
   "cell_type": "code",
   "execution_count": 44,
   "metadata": {},
   "outputs": [
    {
     "data": {
      "image/png": "[encoded data removed]",
      "text/plain": [
       "<matplotlib.figure.Figure at 0x7fa25b4d6a90>"
      ]
     },
     "metadata": {},
     "output_type": "display_data"
    }
   ],
   "source": [
    "plt.plot(errors)\n",
    "plt.show()"
   ]
  },
  {
   "cell_type": "code",
   "execution_count": 43,
   "metadata": {},
   "outputs": [
    {
     "name": "stdout",
     "output_type": "stream",
     "text": [
      "Warning: maximum iterations exceeded, no convergence\n",
      "Warning: maximum iterations exceeded, no convergence\n",
      "Warning: maximum iterations exceeded, no convergence\n",
      "Warning: maximum iterations exceeded, no convergence\n",
      "Warning: maximum iterations exceeded, no convergence\n",
      "Warning: maximum iterations exceeded, no convergence\n",
      "Warning: maximum iterations exceeded, no convergence\n",
      "Warning: maximum iterations exceeded, no convergence\n",
      "Warning: maximum iterations exceeded, no convergence\n",
      "Warning: maximum iterations exceeded, no convergence\n",
      "Warning: maximum iterations exceeded, no convergence\n",
      "Warning: maximum iterations exceeded, no convergence\n",
      "Close!\n",
      "Warning: maximum iterations exceeded, no convergence\n",
      "Close!\n"
     ]
    },
    {
     "ename": "KeyboardInterrupt",
     "evalue": "",
     "output_type": "error",
     "traceback": [
      "\u001b[0;31m---------------------------------------------------------------------------\u001b[0m",
      "\u001b[0;31mKeyboardInterrupt\u001b[0m                         Traceback (most recent call last)",
      "\u001b[0;32m<ipython-input-43-9fd8e9ae6ed9>\u001b[0m in \u001b[0;36m<module>\u001b[0;34m()\u001b[0m\n\u001b[1;32m      3\u001b[0m                     \u001b[0;32mlambda\u001b[0m \u001b[0mx\u001b[0m\u001b[0;34m:\u001b[0m \u001b[0mcliqueProject\u001b[0m\u001b[0;34m(\u001b[0m\u001b[0mx\u001b[0m\u001b[0;34m,\u001b[0m \u001b[0mk\u001b[0m\u001b[0;34m,\u001b[0m \u001b[0mH\u001b[0m\u001b[0;34m)\u001b[0m\u001b[0;34m,\u001b[0m\u001b[0;34m\u001b[0m\u001b[0m\n\u001b[1;32m      4\u001b[0m                     \u001b[0;32mlambda\u001b[0m \u001b[0mx\u001b[0m\u001b[0;34m:\u001b[0m \u001b[0mrankProject\u001b[0m\u001b[0;34m(\u001b[0m\u001b[0mx\u001b[0m\u001b[0;34m,\u001b[0m \u001b[0;36m1\u001b[0m\u001b[0;34m,\u001b[0m \u001b[0mFalse\u001b[0m\u001b[0;34m)\u001b[0m\u001b[0;34m,\u001b[0m\u001b[0;34m\u001b[0m\u001b[0m\n\u001b[0;32m----> 5\u001b[0;31m                     0.01, 1e-12, 1000, True)\n\u001b[0m\u001b[1;32m      6\u001b[0m     \u001b[0merrors\u001b[0m \u001b[0;34m+=\u001b[0m \u001b[0merrors2\u001b[0m\u001b[0;34m\u001b[0m\u001b[0m\n\u001b[1;32m      7\u001b[0m     \u001b[0;32mif\u001b[0m \u001b[0merrors\u001b[0m\u001b[0;34m[\u001b[0m\u001b[0;34m-\u001b[0m\u001b[0;36m1\u001b[0m\u001b[0;34m]\u001b[0m \u001b[0;34m<\u001b[0m \u001b[0;36m1e-4\u001b[0m\u001b[0;34m:\u001b[0m\u001b[0;34m\u001b[0m\u001b[0m\n",
      "\u001b[0;32m/home/atbolsh/VeitElserModule/HW4/RRR.pyc\u001b[0m in \u001b[0;36mRRR\u001b[0;34m(v, proj1, proj2, beta, cutoff, maxIter, errors)\u001b[0m\n\u001b[1;32m     14\u001b[0m     \u001b[0;32mwhile\u001b[0m \u001b[0mnorm\u001b[0m\u001b[0;34m(\u001b[0m\u001b[0merror\u001b[0m\u001b[0;34m)\u001b[0m \u001b[0;34m>\u001b[0m \u001b[0mcutoff\u001b[0m \u001b[0;32mand\u001b[0m \u001b[0mi\u001b[0m \u001b[0;34m<\u001b[0m \u001b[0mmaxIter\u001b[0m\u001b[0;34m:\u001b[0m\u001b[0;34m\u001b[0m\u001b[0m\n\u001b[1;32m     15\u001b[0m         \u001b[0mi\u001b[0m \u001b[0;34m+=\u001b[0m \u001b[0;36m1\u001b[0m\u001b[0;34m\u001b[0m\u001b[0m\n\u001b[0;32m---> 16\u001b[0;31m         \u001b[0merror\u001b[0m \u001b[0;34m=\u001b[0m \u001b[0mRRR_error\u001b[0m\u001b[0;34m(\u001b[0m\u001b[0mv\u001b[0m\u001b[0;34m,\u001b[0m \u001b[0mproj1\u001b[0m\u001b[0;34m,\u001b[0m \u001b[0mproj2\u001b[0m\u001b[0;34m)\u001b[0m\u001b[0;34m\u001b[0m\u001b[0m\n\u001b[0m\u001b[1;32m     17\u001b[0m         \u001b[0mv\u001b[0m \u001b[0;34m=\u001b[0m \u001b[0mv\u001b[0m \u001b[0;34m+\u001b[0m \u001b[0mbeta\u001b[0m\u001b[0;34m*\u001b[0m\u001b[0merror\u001b[0m\u001b[0;34m\u001b[0m\u001b[0m\n\u001b[1;32m     18\u001b[0m         \u001b[0;32mif\u001b[0m \u001b[0merrors\u001b[0m\u001b[0;34m:\u001b[0m\u001b[0;34m\u001b[0m\u001b[0m\n",
      "\u001b[0;32m/home/atbolsh/VeitElserModule/HW4/RRR.pyc\u001b[0m in \u001b[0;36mRRR_error\u001b[0;34m(v, proj1, proj2)\u001b[0m\n\u001b[1;32m      4\u001b[0m \u001b[0;34m\u001b[0m\u001b[0m\n\u001b[1;32m      5\u001b[0m \u001b[0;32mdef\u001b[0m \u001b[0mRRR_error\u001b[0m\u001b[0;34m(\u001b[0m\u001b[0mv\u001b[0m\u001b[0;34m,\u001b[0m \u001b[0mproj1\u001b[0m\u001b[0;34m,\u001b[0m \u001b[0mproj2\u001b[0m\u001b[0;34m)\u001b[0m\u001b[0;34m:\u001b[0m\u001b[0;34m\u001b[0m\u001b[0m\n\u001b[0;32m----> 6\u001b[0;31m     \u001b[0mb\u001b[0m \u001b[0;34m=\u001b[0m \u001b[0mproj2\u001b[0m\u001b[0;34m(\u001b[0m\u001b[0mv\u001b[0m\u001b[0;34m)\u001b[0m\u001b[0;34m\u001b[0m\u001b[0m\n\u001b[0m\u001b[1;32m      7\u001b[0m     \u001b[0ma\u001b[0m \u001b[0;34m=\u001b[0m \u001b[0mproj1\u001b[0m\u001b[0;34m(\u001b[0m\u001b[0;36m2\u001b[0m\u001b[0;34m*\u001b[0m\u001b[0mb\u001b[0m \u001b[0;34m-\u001b[0m \u001b[0mv\u001b[0m\u001b[0;34m)\u001b[0m\u001b[0;34m\u001b[0m\u001b[0m\n\u001b[1;32m      8\u001b[0m     \u001b[0;32mreturn\u001b[0m \u001b[0ma\u001b[0m \u001b[0;34m-\u001b[0m \u001b[0mb\u001b[0m\u001b[0;34m\u001b[0m\u001b[0m\n",
      "\u001b[0;32m<ipython-input-43-9fd8e9ae6ed9>\u001b[0m in \u001b[0;36m<lambda>\u001b[0;34m(x)\u001b[0m\n\u001b[1;32m      2\u001b[0m     Y, errors2, sols = RRR(Y,\n\u001b[1;32m      3\u001b[0m                     \u001b[0;32mlambda\u001b[0m \u001b[0mx\u001b[0m\u001b[0;34m:\u001b[0m \u001b[0mcliqueProject\u001b[0m\u001b[0;34m(\u001b[0m\u001b[0mx\u001b[0m\u001b[0;34m,\u001b[0m \u001b[0mk\u001b[0m\u001b[0;34m,\u001b[0m \u001b[0mH\u001b[0m\u001b[0;34m)\u001b[0m\u001b[0;34m,\u001b[0m\u001b[0;34m\u001b[0m\u001b[0m\n\u001b[0;32m----> 4\u001b[0;31m                     \u001b[0;32mlambda\u001b[0m \u001b[0mx\u001b[0m\u001b[0;34m:\u001b[0m \u001b[0mrankProject\u001b[0m\u001b[0;34m(\u001b[0m\u001b[0mx\u001b[0m\u001b[0;34m,\u001b[0m \u001b[0;36m1\u001b[0m\u001b[0;34m,\u001b[0m \u001b[0mFalse\u001b[0m\u001b[0;34m)\u001b[0m\u001b[0;34m,\u001b[0m\u001b[0;34m\u001b[0m\u001b[0m\n\u001b[0m\u001b[1;32m      5\u001b[0m                     0.01, 1e-12, 1000, True)\n\u001b[1;32m      6\u001b[0m     \u001b[0merrors\u001b[0m \u001b[0;34m+=\u001b[0m \u001b[0merrors2\u001b[0m\u001b[0;34m\u001b[0m\u001b[0m\n",
      "\u001b[0;32m/home/atbolsh/VeitElserModule/HW4/rankProject.pyc\u001b[0m in \u001b[0;36mrankProject\u001b[0;34m(X, rank, unitary)\u001b[0m\n\u001b[1;32m     14\u001b[0m    \u001b[0ml\u001b[0m \u001b[0;34m=\u001b[0m \u001b[0mnp\u001b[0m\u001b[0;34m.\u001b[0m\u001b[0mshape\u001b[0m\u001b[0;34m(\u001b[0m\u001b[0mX\u001b[0m\u001b[0;34m)\u001b[0m\u001b[0;34m[\u001b[0m\u001b[0;36m0\u001b[0m\u001b[0;34m]\u001b[0m\u001b[0;34m\u001b[0m\u001b[0m\n\u001b[1;32m     15\u001b[0m    \u001b[0mM\u001b[0m \u001b[0;34m=\u001b[0m \u001b[0msemiDefProject\u001b[0m\u001b[0;34m(\u001b[0m\u001b[0mX\u001b[0m\u001b[0;34m)\u001b[0m\u001b[0;34m\u001b[0m\u001b[0m\n\u001b[0;32m---> 16\u001b[0;31m    \u001b[0mvals\u001b[0m\u001b[0;34m,\u001b[0m \u001b[0mx\u001b[0m \u001b[0;34m=\u001b[0m \u001b[0meig\u001b[0m\u001b[0;34m(\u001b[0m\u001b[0mM\u001b[0m\u001b[0;34m)\u001b[0m\u001b[0;34m\u001b[0m\u001b[0m\n\u001b[0m\u001b[1;32m     17\u001b[0m    \u001b[0;31m#Indeces for sorting\u001b[0m\u001b[0;34m\u001b[0m\u001b[0;34m\u001b[0m\u001b[0m\n\u001b[1;32m     18\u001b[0m    \u001b[0mind\u001b[0m \u001b[0;34m=\u001b[0m \u001b[0mnp\u001b[0m\u001b[0;34m.\u001b[0m\u001b[0margsort\u001b[0m\u001b[0;34m(\u001b[0m\u001b[0mvals\u001b[0m\u001b[0;34m)\u001b[0m\u001b[0;34m\u001b[0m\u001b[0m\n",
      "\u001b[0;32m/home/atbolsh/anaconda2/lib/python2.7/site-packages/numpy/linalg/linalg.pyc\u001b[0m in \u001b[0;36meig\u001b[0;34m(a)\u001b[0m\n\u001b[1;32m   1132\u001b[0m         _raise_linalgerror_eigenvalues_nonconvergence)\n\u001b[1;32m   1133\u001b[0m     \u001b[0msignature\u001b[0m \u001b[0;34m=\u001b[0m \u001b[0;34m'D->DD'\u001b[0m \u001b[0;32mif\u001b[0m \u001b[0misComplexType\u001b[0m\u001b[0;34m(\u001b[0m\u001b[0mt\u001b[0m\u001b[0;34m)\u001b[0m \u001b[0;32melse\u001b[0m \u001b[0;34m'd->DD'\u001b[0m\u001b[0;34m\u001b[0m\u001b[0m\n\u001b[0;32m-> 1134\u001b[0;31m     \u001b[0mw\u001b[0m\u001b[0;34m,\u001b[0m \u001b[0mvt\u001b[0m \u001b[0;34m=\u001b[0m \u001b[0m_umath_linalg\u001b[0m\u001b[0;34m.\u001b[0m\u001b[0meig\u001b[0m\u001b[0;34m(\u001b[0m\u001b[0ma\u001b[0m\u001b[0;34m,\u001b[0m \u001b[0msignature\u001b[0m\u001b[0;34m=\u001b[0m\u001b[0msignature\u001b[0m\u001b[0;34m,\u001b[0m \u001b[0mextobj\u001b[0m\u001b[0;34m=\u001b[0m\u001b[0mextobj\u001b[0m\u001b[0;34m)\u001b[0m\u001b[0;34m\u001b[0m\u001b[0m\n\u001b[0m\u001b[1;32m   1135\u001b[0m \u001b[0;34m\u001b[0m\u001b[0m\n\u001b[1;32m   1136\u001b[0m     \u001b[0;32mif\u001b[0m \u001b[0;32mnot\u001b[0m \u001b[0misComplexType\u001b[0m\u001b[0;34m(\u001b[0m\u001b[0mt\u001b[0m\u001b[0;34m)\u001b[0m \u001b[0;32mand\u001b[0m \u001b[0mall\u001b[0m\u001b[0;34m(\u001b[0m\u001b[0mw\u001b[0m\u001b[0;34m.\u001b[0m\u001b[0mimag\u001b[0m \u001b[0;34m==\u001b[0m \u001b[0;36m0.0\u001b[0m\u001b[0;34m)\u001b[0m\u001b[0;34m:\u001b[0m\u001b[0;34m\u001b[0m\u001b[0m\n",
      "\u001b[0;31mKeyboardInterrupt\u001b[0m: "
     ]
    }
   ],
   "source": [
    "while(True):\n",
    "    Y, errors2, sols = RRR(Y,\n",
    "                    lambda x: cliqueProject(x, k, H), \n",
    "                    lambda x: rankProject(x, 1, False),\n",
    "                    0.01, 1e-12, 1000, True)\n",
    "    errors += errors2\n",
    "    if errors[-1] < 1e-4:\n",
    "        print \"Close!\"\n",
    "    if errors[-1] <= 1e-12:\n",
    "        break\n",
    "\n"
   ]
  },
  {
   "cell_type": "markdown",
   "metadata": {},
   "source": [
    "It's worth nothing that closeups of the error profile reveal strange plateaus, as if the projections are often a set distance apart. Could these be smaller cliques? Or ranks $2$, $3$, etc.?"
   ]
  },
  {
   "cell_type": "code",
   "execution_count": 48,
   "metadata": {},
   "outputs": [
    {
     "data": {
      "image/png": "[encoded data removed]",
      "text/plain": [
       "<matplotlib.figure.Figure at 0x7fa25b68a4d0>"
      ]
     },
     "metadata": {},
     "output_type": "display_data"
    }
   ],
   "source": [
    "plt.plot(errors[6400:6500])\n",
    "plt.show()"
   ]
  },
  {
   "cell_type": "code",
   "execution_count": 49,
   "metadata": {},
   "outputs": [
    {
     "data": {
      "image/png": "[encoded data removed]",
      "text/plain": [
       "<matplotlib.figure.Figure at 0x7fa265edaa50>"
      ]
     },
     "metadata": {},
     "output_type": "display_data"
    }
   ],
   "source": [
    "plt.plot(errors[6000:7000])\n",
    "plt.show()"
   ]
  },
  {
   "cell_type": "code",
   "execution_count": 50,
   "metadata": {},
   "outputs": [
    {
     "name": "stdout",
     "output_type": "stream",
     "text": [
      "[  4   6   8  10  16  18  24  28  30  33  43  51  54  65  66  69  76  78\n",
      "  79  81  84  90  92  95  97 102 103 109 113 116 120 121 124]\n",
      "1.0\n"
     ]
    }
   ],
   "source": [
    "print extractClique(sols)\n",
    "print verifyClique(extractClique(sols), H)\n"
   ]
  },
  {
   "cell_type": "markdown",
   "metadata": {},
   "source": [
    "I think I will use a smaller beta.\n",
    "Even though it took a lot more steps, it only took a factor of $5$ more, while we reduced step size by a factor of $50$.\n",
    "\n",
    "Now, let's look for truly difficult cliques.\n",
    "\n",
    "## k = 35\n",
    "\n",
    "There should be $7000$ cliques at $k = 35$. Let's find them."
   ]
  },
  {
   "cell_type": "code",
   "execution_count": 51,
   "metadata": {},
   "outputs": [
    {
     "name": "stdout",
     "output_type": "stream",
     "text": [
      "Warning: maximum iterations exceeded, no convergence\n"
     ]
    }
   ],
   "source": [
    "k = 35\n",
    "\n",
    "A = semiDefProject(np.random.rand(n, n))\n",
    "\n",
    "Y, errors, sols = RRR(A, \n",
    "                    lambda x: cliqueProject(x, k, H), \n",
    "                    lambda x: rankProject(x, 1, False),\n",
    "                    0.01, 1e-12, 1000, True)"
   ]
  },
  {
   "cell_type": "code",
   "execution_count": 97,
   "metadata": {},
   "outputs": [
    {
     "name": "stdout",
     "output_type": "stream",
     "text": [
      "Warning: maximum iterations exceeded, no convergence\n",
      "Warning: maximum iterations exceeded, no convergence\n",
      "Warning: maximum iterations exceeded, no convergence\n",
      "Warning: maximum iterations exceeded, no convergence\n",
      "Warning: maximum iterations exceeded, no convergence\n",
      "Warning: maximum iterations exceeded, no convergence\n",
      "Warning: maximum iterations exceeded, no convergence\n",
      "Warning: maximum iterations exceeded, no convergence\n",
      "Warning: maximum iterations exceeded, no convergence\n",
      "Warning: maximum iterations exceeded, no convergence\n",
      "Warning: maximum iterations exceeded, no convergence\n",
      "Warning: maximum iterations exceeded, no convergence\n",
      "Warning: maximum iterations exceeded, no convergence\n",
      "Warning: maximum iterations exceeded, no convergence\n",
      "Warning: maximum iterations exceeded, no convergence\n",
      "Warning: maximum iterations exceeded, no convergence\n",
      "Warning: maximum iterations exceeded, no convergence\n",
      "Warning: maximum iterations exceeded, no convergence\n",
      "Warning: maximum iterations exceeded, no convergence\n",
      "Warning: maximum iterations exceeded, no convergence\n",
      "Warning: maximum iterations exceeded, no convergence\n",
      "Warning: maximum iterations exceeded, no convergence\n",
      "Warning: maximum iterations exceeded, no convergence\n",
      "Warning: maximum iterations exceeded, no convergence\n",
      "Warning: maximum iterations exceeded, no convergence\n",
      "Warning: maximum iterations exceeded, no convergence\n",
      "Warning: maximum iterations exceeded, no convergence\n",
      "Warning: maximum iterations exceeded, no convergence\n",
      "Warning: maximum iterations exceeded, no convergence\n",
      "Warning: maximum iterations exceeded, no convergence\n",
      "Warning: maximum iterations exceeded, no convergence\n",
      "Warning: maximum iterations exceeded, no convergence\n",
      "Warning: maximum iterations exceeded, no convergence\n",
      "Warning: maximum iterations exceeded, no convergence\n",
      "Warning: maximum iterations exceeded, no convergence\n",
      "Warning: maximum iterations exceeded, no convergence\n",
      "Warning: maximum iterations exceeded, no convergence\n",
      "Warning: maximum iterations exceeded, no convergence\n",
      "Warning: maximum iterations exceeded, no convergence\n",
      "Warning: maximum iterations exceeded, no convergence\n",
      "Warning: maximum iterations exceeded, no convergence\n",
      "Warning: maximum iterations exceeded, no convergence\n",
      "Warning: maximum iterations exceeded, no convergence\n",
      "Warning: maximum iterations exceeded, no convergence\n",
      "Warning: maximum iterations exceeded, no convergence\n",
      "Warning: maximum iterations exceeded, no convergence\n",
      "Warning: maximum iterations exceeded, no convergence\n",
      "Warning: maximum iterations exceeded, no convergence\n",
      "Warning: maximum iterations exceeded, no convergence\n",
      "Warning: maximum iterations exceeded, no convergence\n",
      "Warning: maximum iterations exceeded, no convergence\n",
      "Warning: maximum iterations exceeded, no convergence\n",
      "Warning: maximum iterations exceeded, no convergence\n",
      "Warning: maximum iterations exceeded, no convergence\n",
      "Warning: maximum iterations exceeded, no convergence\n",
      "Warning: maximum iterations exceeded, no convergence\n",
      "Warning: maximum iterations exceeded, no convergence\n",
      "Warning: maximum iterations exceeded, no convergence\n",
      "Warning: maximum iterations exceeded, no convergence\n",
      "Warning: maximum iterations exceeded, no convergence\n",
      "Warning: maximum iterations exceeded, no convergence\n",
      "Warning: maximum iterations exceeded, no convergence\n",
      "Warning: maximum iterations exceeded, no convergence\n",
      "Warning: maximum iterations exceeded, no convergence\n",
      "Warning: maximum iterations exceeded, no convergence\n",
      "Warning: maximum iterations exceeded, no convergence\n",
      "Warning: maximum iterations exceeded, no convergence\n",
      "Warning: maximum iterations exceeded, no convergence\n",
      "Warning: maximum iterations exceeded, no convergence\n",
      "Warning: maximum iterations exceeded, no convergence\n",
      "Warning: maximum iterations exceeded, no convergence\n",
      "Warning: maximum iterations exceeded, no convergence\n",
      "Warning: maximum iterations exceeded, no convergence\n",
      "Warning: maximum iterations exceeded, no convergence\n",
      "Warning: maximum iterations exceeded, no convergence\n",
      "Warning: maximum iterations exceeded, no convergence\n",
      "Warning: maximum iterations exceeded, no convergence\n",
      "Warning: maximum iterations exceeded, no convergence\n",
      "Warning: maximum iterations exceeded, no convergence\n",
      "Warning: maximum iterations exceeded, no convergence\n",
      "Warning: maximum iterations exceeded, no convergence\n",
      "Warning: maximum iterations exceeded, no convergence\n",
      "Warning: maximum iterations exceeded, no convergence\n",
      "Warning: maximum iterations exceeded, no convergence\n",
      "Warning: maximum iterations exceeded, no convergence\n",
      "Warning: maximum iterations exceeded, no convergence\n",
      "Warning: maximum iterations exceeded, no convergence\n",
      "Warning: maximum iterations exceeded, no convergence\n",
      "Warning: maximum iterations exceeded, no convergence\n",
      "Warning: maximum iterations exceeded, no convergence\n",
      "Warning: maximum iterations exceeded, no convergence\n",
      "Warning: maximum iterations exceeded, no convergence\n",
      "Warning: maximum iterations exceeded, no convergence\n",
      "Warning: maximum iterations exceeded, no convergence\n",
      "Warning: maximum iterations exceeded, no convergence\n",
      "Warning: maximum iterations exceeded, no convergence\n",
      "Warning: maximum iterations exceeded, no convergence\n",
      "Warning: maximum iterations exceeded, no convergence\n",
      "Warning: maximum iterations exceeded, no convergence\n",
      "Warning: maximum iterations exceeded, no convergence\n",
      "Warning: maximum iterations exceeded, no convergence\n",
      "Warning: maximum iterations exceeded, no convergence\n",
      "Warning: maximum iterations exceeded, no convergence\n",
      "Warning: maximum iterations exceeded, no convergence\n",
      "Warning: maximum iterations exceeded, no convergence\n",
      "Warning: maximum iterations exceeded, no convergence\n",
      "Warning: maximum iterations exceeded, no convergence\n",
      "Warning: maximum iterations exceeded, no convergence\n",
      "Warning: maximum iterations exceeded, no convergence\n",
      "Warning: maximum iterations exceeded, no convergence\n",
      "Warning: maximum iterations exceeded, no convergence\n",
      "Warning: maximum iterations exceeded, no convergence\n",
      "Warning: maximum iterations exceeded, no convergence\n",
      "Warning: maximum iterations exceeded, no convergence\n",
      "Warning: maximum iterations exceeded, no convergence\n",
      "Warning: maximum iterations exceeded, no convergence\n",
      "Warning: maximum iterations exceeded, no convergence\n",
      "Warning: maximum iterations exceeded, no convergence\n",
      "Warning: maximum iterations exceeded, no convergence\n",
      "Warning: maximum iterations exceeded, no convergence\n",
      "Warning: maximum iterations exceeded, no convergence\n",
      "Warning: maximum iterations exceeded, no convergence\n",
      "Warning: maximum iterations exceeded, no convergence\n",
      "Warning: maximum iterations exceeded, no convergence\n",
      "Warning: maximum iterations exceeded, no convergence\n",
      "Warning: maximum iterations exceeded, no convergence\n",
      "Warning: maximum iterations exceeded, no convergence\n",
      "Warning: maximum iterations exceeded, no convergence\n",
      "Warning: maximum iterations exceeded, no convergence\n",
      "Warning: maximum iterations exceeded, no convergence\n",
      "Warning: maximum iterations exceeded, no convergence\n",
      "Warning: maximum iterations exceeded, no convergence\n",
      "Warning: maximum iterations exceeded, no convergence\n",
      "Warning: maximum iterations exceeded, no convergence\n",
      "Warning: maximum iterations exceeded, no convergence\n",
      "Warning: maximum iterations exceeded, no convergence\n",
      "Warning: maximum iterations exceeded, no convergence\n",
      "Warning: maximum iterations exceeded, no convergence\n",
      "Warning: maximum iterations exceeded, no convergence\n",
      "Warning: maximum iterations exceeded, no convergence\n",
      "Warning: maximum iterations exceeded, no convergence\n",
      "Warning: maximum iterations exceeded, no convergence\n",
      "Warning: maximum iterations exceeded, no convergence\n",
      "Warning: maximum iterations exceeded, no convergence\n",
      "Warning: maximum iterations exceeded, no convergence\n",
      "Warning: maximum iterations exceeded, no convergence\n",
      "Warning: maximum iterations exceeded, no convergence\n",
      "Warning: maximum iterations exceeded, no convergence\n",
      "Warning: maximum iterations exceeded, no convergence\n",
      "Warning: maximum iterations exceeded, no convergence\n",
      "Warning: maximum iterations exceeded, no convergence\n",
      "Warning: maximum iterations exceeded, no convergence\n",
      "Warning: maximum iterations exceeded, no convergence\n",
      "Warning: maximum iterations exceeded, no convergence\n",
      "Warning: maximum iterations exceeded, no convergence\n"
     ]
    },
    {
     "name": "stdout",
     "output_type": "stream",
     "text": [
      "Warning: maximum iterations exceeded, no convergence\n",
      "Warning: maximum iterations exceeded, no convergence\n",
      "Warning: maximum iterations exceeded, no convergence\n",
      "Warning: maximum iterations exceeded, no convergence\n",
      "Warning: maximum iterations exceeded, no convergence\n",
      "Warning: maximum iterations exceeded, no convergence\n",
      "Warning: maximum iterations exceeded, no convergence\n",
      "Warning: maximum iterations exceeded, no convergence\n",
      "Warning: maximum iterations exceeded, no convergence\n",
      "Warning: maximum iterations exceeded, no convergence\n",
      "Warning: maximum iterations exceeded, no convergence\n",
      "Warning: maximum iterations exceeded, no convergence\n",
      "Warning: maximum iterations exceeded, no convergence\n",
      "Warning: maximum iterations exceeded, no convergence\n",
      "Warning: maximum iterations exceeded, no convergence\n",
      "Warning: maximum iterations exceeded, no convergence\n",
      "Warning: maximum iterations exceeded, no convergence\n",
      "Warning: maximum iterations exceeded, no convergence\n",
      "Warning: maximum iterations exceeded, no convergence\n",
      "Warning: maximum iterations exceeded, no convergence\n",
      "Warning: maximum iterations exceeded, no convergence\n",
      "Warning: maximum iterations exceeded, no convergence\n",
      "Warning: maximum iterations exceeded, no convergence\n",
      "Warning: maximum iterations exceeded, no convergence\n",
      "Warning: maximum iterations exceeded, no convergence\n",
      "Warning: maximum iterations exceeded, no convergence\n",
      "Warning: maximum iterations exceeded, no convergence\n",
      "Warning: maximum iterations exceeded, no convergence\n",
      "Warning: maximum iterations exceeded, no convergence\n",
      "Warning: maximum iterations exceeded, no convergence\n",
      "Warning: maximum iterations exceeded, no convergence\n",
      "Warning: maximum iterations exceeded, no convergence\n",
      "Warning: maximum iterations exceeded, no convergence\n",
      "Warning: maximum iterations exceeded, no convergence\n",
      "Warning: maximum iterations exceeded, no convergence\n",
      "Warning: maximum iterations exceeded, no convergence\n",
      "Warning: maximum iterations exceeded, no convergence\n",
      "Warning: maximum iterations exceeded, no convergence\n",
      "Warning: maximum iterations exceeded, no convergence\n",
      "Warning: maximum iterations exceeded, no convergence\n",
      "Warning: maximum iterations exceeded, no convergence\n",
      "Warning: maximum iterations exceeded, no convergence\n",
      "Warning: maximum iterations exceeded, no convergence\n",
      "Warning: maximum iterations exceeded, no convergence\n",
      "Warning: maximum iterations exceeded, no convergence\n",
      "Warning: maximum iterations exceeded, no convergence\n",
      "Warning: maximum iterations exceeded, no convergence\n",
      "Warning: maximum iterations exceeded, no convergence\n",
      "Warning: maximum iterations exceeded, no convergence\n",
      "Warning: maximum iterations exceeded, no convergence\n",
      "Warning: maximum iterations exceeded, no convergence\n",
      "Warning: maximum iterations exceeded, no convergence\n",
      "Warning: maximum iterations exceeded, no convergence\n",
      "Warning: maximum iterations exceeded, no convergence\n",
      "Warning: maximum iterations exceeded, no convergence\n",
      "Warning: maximum iterations exceeded, no convergence\n",
      "Warning: maximum iterations exceeded, no convergence\n",
      "Warning: maximum iterations exceeded, no convergence\n",
      "Warning: maximum iterations exceeded, no convergence\n",
      "Warning: maximum iterations exceeded, no convergence\n",
      "Warning: maximum iterations exceeded, no convergence\n",
      "Warning: maximum iterations exceeded, no convergence\n",
      "Warning: maximum iterations exceeded, no convergence\n",
      "Warning: maximum iterations exceeded, no convergence\n",
      "Warning: maximum iterations exceeded, no convergence\n",
      "Warning: maximum iterations exceeded, no convergence\n",
      "Warning: maximum iterations exceeded, no convergence\n",
      "Warning: maximum iterations exceeded, no convergence\n",
      "Warning: maximum iterations exceeded, no convergence\n",
      "Warning: maximum iterations exceeded, no convergence\n",
      "Warning: maximum iterations exceeded, no convergence\n",
      "Warning: maximum iterations exceeded, no convergence\n",
      "Warning: maximum iterations exceeded, no convergence\n",
      "Warning: maximum iterations exceeded, no convergence\n",
      "Warning: maximum iterations exceeded, no convergence\n",
      "Warning: maximum iterations exceeded, no convergence\n",
      "Warning: maximum iterations exceeded, no convergence\n",
      "Warning: maximum iterations exceeded, no convergence\n",
      "Warning: maximum iterations exceeded, no convergence\n",
      "Warning: maximum iterations exceeded, no convergence\n",
      "Warning: maximum iterations exceeded, no convergence\n",
      "Warning: maximum iterations exceeded, no convergence\n",
      "Warning: maximum iterations exceeded, no convergence\n",
      "Warning: maximum iterations exceeded, no convergence\n",
      "Warning: maximum iterations exceeded, no convergence\n",
      "Warning: maximum iterations exceeded, no convergence\n",
      "Warning: maximum iterations exceeded, no convergence\n",
      "Warning: maximum iterations exceeded, no convergence\n",
      "Warning: maximum iterations exceeded, no convergence\n",
      "Warning: maximum iterations exceeded, no convergence\n",
      "Warning: maximum iterations exceeded, no convergence\n",
      "Warning: maximum iterations exceeded, no convergence\n",
      "Warning: maximum iterations exceeded, no convergence\n",
      "Warning: maximum iterations exceeded, no convergence\n",
      "Warning: maximum iterations exceeded, no convergence\n",
      "Warning: maximum iterations exceeded, no convergence\n",
      "Warning: maximum iterations exceeded, no convergence\n",
      "Warning: maximum iterations exceeded, no convergence\n",
      "Warning: maximum iterations exceeded, no convergence\n",
      "Warning: maximum iterations exceeded, no convergence\n",
      "Warning: maximum iterations exceeded, no convergence\n",
      "Warning: maximum iterations exceeded, no convergence\n",
      "Warning: maximum iterations exceeded, no convergence\n",
      "Warning: maximum iterations exceeded, no convergence\n",
      "Warning: maximum iterations exceeded, no convergence\n",
      "Warning: maximum iterations exceeded, no convergence\n",
      "Warning: maximum iterations exceeded, no convergence\n",
      "Warning: maximum iterations exceeded, no convergence\n",
      "Warning: maximum iterations exceeded, no convergence\n",
      "Warning: maximum iterations exceeded, no convergence\n",
      "Warning: maximum iterations exceeded, no convergence\n",
      "Warning: maximum iterations exceeded, no convergence\n",
      "Warning: maximum iterations exceeded, no convergence\n",
      "Warning: maximum iterations exceeded, no convergence\n",
      "Warning: maximum iterations exceeded, no convergence\n",
      "Warning: maximum iterations exceeded, no convergence\n",
      "Warning: maximum iterations exceeded, no convergence\n",
      "Warning: maximum iterations exceeded, no convergence\n",
      "Warning: maximum iterations exceeded, no convergence\n",
      "Warning: maximum iterations exceeded, no convergence\n",
      "Warning: maximum iterations exceeded, no convergence\n",
      "Warning: maximum iterations exceeded, no convergence\n",
      "Warning: maximum iterations exceeded, no convergence\n",
      "Warning: maximum iterations exceeded, no convergence\n",
      "Warning: maximum iterations exceeded, no convergence\n",
      "Warning: maximum iterations exceeded, no convergence\n",
      "Warning: maximum iterations exceeded, no convergence\n",
      "Warning: maximum iterations exceeded, no convergence\n",
      "Warning: maximum iterations exceeded, no convergence\n",
      "Warning: maximum iterations exceeded, no convergence\n",
      "Warning: maximum iterations exceeded, no convergence\n",
      "Warning: maximum iterations exceeded, no convergence\n",
      "Warning: maximum iterations exceeded, no convergence\n",
      "Warning: maximum iterations exceeded, no convergence\n",
      "Warning: maximum iterations exceeded, no convergence\n",
      "Warning: maximum iterations exceeded, no convergence\n",
      "Warning: maximum iterations exceeded, no convergence\n",
      "Warning: maximum iterations exceeded, no convergence\n",
      "Warning: maximum iterations exceeded, no convergence\n",
      "Warning: maximum iterations exceeded, no convergence\n",
      "Warning: maximum iterations exceeded, no convergence\n",
      "Warning: maximum iterations exceeded, no convergence\n",
      "Warning: maximum iterations exceeded, no convergence\n",
      "Warning: maximum iterations exceeded, no convergence\n",
      "Warning: maximum iterations exceeded, no convergence\n",
      "Warning: maximum iterations exceeded, no convergence\n",
      "Warning: maximum iterations exceeded, no convergence\n",
      "Warning: maximum iterations exceeded, no convergence\n",
      "Warning: maximum iterations exceeded, no convergence\n",
      "Warning: maximum iterations exceeded, no convergence\n",
      "Warning: maximum iterations exceeded, no convergence\n",
      "Warning: maximum iterations exceeded, no convergence\n",
      "Warning: maximum iterations exceeded, no convergence\n",
      "Warning: maximum iterations exceeded, no convergence\n",
      "Warning: maximum iterations exceeded, no convergence\n"
     ]
    },
    {
     "name": "stdout",
     "output_type": "stream",
     "text": [
      "Warning: maximum iterations exceeded, no convergence\n",
      "Warning: maximum iterations exceeded, no convergence\n",
      "Warning: maximum iterations exceeded, no convergence\n",
      "Warning: maximum iterations exceeded, no convergence\n",
      "Warning: maximum iterations exceeded, no convergence\n",
      "Warning: maximum iterations exceeded, no convergence\n",
      "Warning: maximum iterations exceeded, no convergence\n",
      "Warning: maximum iterations exceeded, no convergence\n",
      "Warning: maximum iterations exceeded, no convergence\n",
      "Warning: maximum iterations exceeded, no convergence\n",
      "Warning: maximum iterations exceeded, no convergence\n",
      "Warning: maximum iterations exceeded, no convergence\n",
      "Warning: maximum iterations exceeded, no convergence\n",
      "Warning: maximum iterations exceeded, no convergence\n",
      "Warning: maximum iterations exceeded, no convergence\n",
      "Warning: maximum iterations exceeded, no convergence\n",
      "Warning: maximum iterations exceeded, no convergence\n",
      "Warning: maximum iterations exceeded, no convergence\n",
      "Warning: maximum iterations exceeded, no convergence\n",
      "Warning: maximum iterations exceeded, no convergence\n",
      "Warning: maximum iterations exceeded, no convergence\n",
      "Warning: maximum iterations exceeded, no convergence\n",
      "Warning: maximum iterations exceeded, no convergence\n",
      "Warning: maximum iterations exceeded, no convergence\n",
      "Warning: maximum iterations exceeded, no convergence\n",
      "Warning: maximum iterations exceeded, no convergence\n",
      "Warning: maximum iterations exceeded, no convergence\n",
      "Warning: maximum iterations exceeded, no convergence\n",
      "Warning: maximum iterations exceeded, no convergence\n",
      "Warning: maximum iterations exceeded, no convergence\n",
      "Warning: maximum iterations exceeded, no convergence\n",
      "Warning: maximum iterations exceeded, no convergence\n",
      "Warning: maximum iterations exceeded, no convergence\n",
      "Warning: maximum iterations exceeded, no convergence\n",
      "Warning: maximum iterations exceeded, no convergence\n",
      "Warning: maximum iterations exceeded, no convergence\n",
      "Warning: maximum iterations exceeded, no convergence\n",
      "Warning: maximum iterations exceeded, no convergence\n",
      "Warning: maximum iterations exceeded, no convergence\n",
      "Warning: maximum iterations exceeded, no convergence\n",
      "Warning: maximum iterations exceeded, no convergence\n",
      "Warning: maximum iterations exceeded, no convergence\n",
      "Warning: maximum iterations exceeded, no convergence\n",
      "Warning: maximum iterations exceeded, no convergence\n",
      "Warning: maximum iterations exceeded, no convergence\n",
      "Warning: maximum iterations exceeded, no convergence\n",
      "Warning: maximum iterations exceeded, no convergence\n",
      "Warning: maximum iterations exceeded, no convergence\n",
      "Warning: maximum iterations exceeded, no convergence\n",
      "Warning: maximum iterations exceeded, no convergence\n",
      "Warning: maximum iterations exceeded, no convergence\n",
      "Warning: maximum iterations exceeded, no convergence\n",
      "Warning: maximum iterations exceeded, no convergence\n",
      "Warning: maximum iterations exceeded, no convergence\n",
      "Warning: maximum iterations exceeded, no convergence\n",
      "Warning: maximum iterations exceeded, no convergence\n",
      "Warning: maximum iterations exceeded, no convergence\n",
      "Warning: maximum iterations exceeded, no convergence\n",
      "Warning: maximum iterations exceeded, no convergence\n",
      "Warning: maximum iterations exceeded, no convergence\n",
      "Warning: maximum iterations exceeded, no convergence\n",
      "Warning: maximum iterations exceeded, no convergence\n",
      "Warning: maximum iterations exceeded, no convergence\n",
      "Warning: maximum iterations exceeded, no convergence\n",
      "Warning: maximum iterations exceeded, no convergence\n",
      "Warning: maximum iterations exceeded, no convergence\n",
      "Warning: maximum iterations exceeded, no convergence\n",
      "Warning: maximum iterations exceeded, no convergence\n",
      "Warning: maximum iterations exceeded, no convergence\n",
      "Warning: maximum iterations exceeded, no convergence\n",
      "Warning: maximum iterations exceeded, no convergence\n",
      "Warning: maximum iterations exceeded, no convergence\n",
      "Warning: maximum iterations exceeded, no convergence\n",
      "Warning: maximum iterations exceeded, no convergence\n",
      "Warning: maximum iterations exceeded, no convergence\n",
      "Warning: maximum iterations exceeded, no convergence\n",
      "Warning: maximum iterations exceeded, no convergence\n",
      "Warning: maximum iterations exceeded, no convergence\n",
      "Warning: maximum iterations exceeded, no convergence\n",
      "Warning: maximum iterations exceeded, no convergence\n",
      "Warning: maximum iterations exceeded, no convergence\n",
      "Warning: maximum iterations exceeded, no convergence\n",
      "Warning: maximum iterations exceeded, no convergence\n",
      "Warning: maximum iterations exceeded, no convergence\n",
      "Warning: maximum iterations exceeded, no convergence\n",
      "Warning: maximum iterations exceeded, no convergence\n",
      "Warning: maximum iterations exceeded, no convergence\n",
      "Warning: maximum iterations exceeded, no convergence\n",
      "Warning: maximum iterations exceeded, no convergence\n",
      "Warning: maximum iterations exceeded, no convergence\n",
      "Warning: maximum iterations exceeded, no convergence\n",
      "Warning: maximum iterations exceeded, no convergence\n",
      "Warning: maximum iterations exceeded, no convergence\n",
      "Warning: maximum iterations exceeded, no convergence\n",
      "Warning: maximum iterations exceeded, no convergence\n",
      "Warning: maximum iterations exceeded, no convergence\n",
      "Warning: maximum iterations exceeded, no convergence\n",
      "Warning: maximum iterations exceeded, no convergence\n",
      "Warning: maximum iterations exceeded, no convergence\n",
      "Warning: maximum iterations exceeded, no convergence\n",
      "Warning: maximum iterations exceeded, no convergence\n",
      "Warning: maximum iterations exceeded, no convergence\n",
      "Warning: maximum iterations exceeded, no convergence\n",
      "Warning: maximum iterations exceeded, no convergence\n",
      "Warning: maximum iterations exceeded, no convergence\n",
      "Warning: maximum iterations exceeded, no convergence\n",
      "Warning: maximum iterations exceeded, no convergence\n",
      "Warning: maximum iterations exceeded, no convergence\n",
      "Warning: maximum iterations exceeded, no convergence\n",
      "Warning: maximum iterations exceeded, no convergence\n",
      "Warning: maximum iterations exceeded, no convergence\n",
      "Warning: maximum iterations exceeded, no convergence\n",
      "Warning: maximum iterations exceeded, no convergence\n",
      "Warning: maximum iterations exceeded, no convergence\n",
      "Warning: maximum iterations exceeded, no convergence\n",
      "Warning: maximum iterations exceeded, no convergence\n",
      "Warning: maximum iterations exceeded, no convergence\n",
      "Warning: maximum iterations exceeded, no convergence\n",
      "Warning: maximum iterations exceeded, no convergence\n",
      "Warning: maximum iterations exceeded, no convergence\n",
      "Warning: maximum iterations exceeded, no convergence\n",
      "Warning: maximum iterations exceeded, no convergence\n",
      "Warning: maximum iterations exceeded, no convergence\n",
      "Warning: maximum iterations exceeded, no convergence\n",
      "Warning: maximum iterations exceeded, no convergence\n",
      "Warning: maximum iterations exceeded, no convergence\n",
      "Warning: maximum iterations exceeded, no convergence\n",
      "Warning: maximum iterations exceeded, no convergence\n",
      "Warning: maximum iterations exceeded, no convergence\n",
      "Warning: maximum iterations exceeded, no convergence\n",
      "Warning: maximum iterations exceeded, no convergence\n",
      "Warning: maximum iterations exceeded, no convergence\n",
      "Warning: maximum iterations exceeded, no convergence\n",
      "Warning: maximum iterations exceeded, no convergence\n",
      "Warning: maximum iterations exceeded, no convergence\n",
      "Warning: maximum iterations exceeded, no convergence\n",
      "Warning: maximum iterations exceeded, no convergence\n",
      "Warning: maximum iterations exceeded, no convergence\n",
      "Warning: maximum iterations exceeded, no convergence\n",
      "Warning: maximum iterations exceeded, no convergence\n",
      "Warning: maximum iterations exceeded, no convergence\n",
      "Warning: maximum iterations exceeded, no convergence\n",
      "Warning: maximum iterations exceeded, no convergence\n",
      "Warning: maximum iterations exceeded, no convergence\n",
      "Warning: maximum iterations exceeded, no convergence\n",
      "Warning: maximum iterations exceeded, no convergence\n",
      "Warning: maximum iterations exceeded, no convergence\n",
      "Warning: maximum iterations exceeded, no convergence\n",
      "Warning: maximum iterations exceeded, no convergence\n",
      "Warning: maximum iterations exceeded, no convergence\n",
      "Warning: maximum iterations exceeded, no convergence\n",
      "Warning: maximum iterations exceeded, no convergence\n",
      "Warning: maximum iterations exceeded, no convergence\n",
      "Warning: maximum iterations exceeded, no convergence\n",
      "Warning: maximum iterations exceeded, no convergence\n"
     ]
    },
    {
     "name": "stdout",
     "output_type": "stream",
     "text": [
      "Warning: maximum iterations exceeded, no convergence\n",
      "Warning: maximum iterations exceeded, no convergence\n",
      "Warning: maximum iterations exceeded, no convergence\n",
      "Warning: maximum iterations exceeded, no convergence\n",
      "Warning: maximum iterations exceeded, no convergence\n",
      "Warning: maximum iterations exceeded, no convergence\n",
      "Warning: maximum iterations exceeded, no convergence\n",
      "Warning: maximum iterations exceeded, no convergence\n",
      "Warning: maximum iterations exceeded, no convergence\n",
      "Warning: maximum iterations exceeded, no convergence\n",
      "Warning: maximum iterations exceeded, no convergence\n",
      "Warning: maximum iterations exceeded, no convergence\n",
      "Warning: maximum iterations exceeded, no convergence\n",
      "Warning: maximum iterations exceeded, no convergence\n",
      "Warning: maximum iterations exceeded, no convergence\n",
      "Warning: maximum iterations exceeded, no convergence\n",
      "Warning: maximum iterations exceeded, no convergence\n",
      "Warning: maximum iterations exceeded, no convergence\n",
      "Warning: maximum iterations exceeded, no convergence\n",
      "Warning: maximum iterations exceeded, no convergence\n",
      "Warning: maximum iterations exceeded, no convergence\n",
      "Warning: maximum iterations exceeded, no convergence\n",
      "Warning: maximum iterations exceeded, no convergence\n",
      "Warning: maximum iterations exceeded, no convergence\n",
      "Warning: maximum iterations exceeded, no convergence\n",
      "Warning: maximum iterations exceeded, no convergence\n",
      "Warning: maximum iterations exceeded, no convergence\n",
      "Warning: maximum iterations exceeded, no convergence\n",
      "Warning: maximum iterations exceeded, no convergence\n",
      "Warning: maximum iterations exceeded, no convergence\n",
      "Warning: maximum iterations exceeded, no convergence\n",
      "Warning: maximum iterations exceeded, no convergence\n",
      "Warning: maximum iterations exceeded, no convergence\n",
      "Warning: maximum iterations exceeded, no convergence\n",
      "Warning: maximum iterations exceeded, no convergence\n",
      "Warning: maximum iterations exceeded, no convergence\n",
      "Warning: maximum iterations exceeded, no convergence\n",
      "Warning: maximum iterations exceeded, no convergence\n",
      "Warning: maximum iterations exceeded, no convergence\n",
      "Warning: maximum iterations exceeded, no convergence\n",
      "Warning: maximum iterations exceeded, no convergence\n",
      "Warning: maximum iterations exceeded, no convergence\n",
      "Warning: maximum iterations exceeded, no convergence\n",
      "Warning: maximum iterations exceeded, no convergence\n",
      "Warning: maximum iterations exceeded, no convergence\n",
      "Warning: maximum iterations exceeded, no convergence\n",
      "Warning: maximum iterations exceeded, no convergence\n",
      "Warning: maximum iterations exceeded, no convergence\n",
      "Warning: maximum iterations exceeded, no convergence\n",
      "Warning: maximum iterations exceeded, no convergence\n",
      "Warning: maximum iterations exceeded, no convergence\n",
      "Warning: maximum iterations exceeded, no convergence\n",
      "Warning: maximum iterations exceeded, no convergence\n",
      "Warning: maximum iterations exceeded, no convergence\n",
      "Warning: maximum iterations exceeded, no convergence\n",
      "Warning: maximum iterations exceeded, no convergence\n",
      "Warning: maximum iterations exceeded, no convergence\n",
      "Warning: maximum iterations exceeded, no convergence\n",
      "Warning: maximum iterations exceeded, no convergence\n",
      "Warning: maximum iterations exceeded, no convergence\n",
      "Warning: maximum iterations exceeded, no convergence\n",
      "Warning: maximum iterations exceeded, no convergence\n",
      "Warning: maximum iterations exceeded, no convergence\n",
      "Warning: maximum iterations exceeded, no convergence\n",
      "Warning: maximum iterations exceeded, no convergence\n",
      "Warning: maximum iterations exceeded, no convergence\n",
      "Warning: maximum iterations exceeded, no convergence\n",
      "Warning: maximum iterations exceeded, no convergence\n",
      "Warning: maximum iterations exceeded, no convergence\n",
      "Warning: maximum iterations exceeded, no convergence\n",
      "Warning: maximum iterations exceeded, no convergence\n",
      "Warning: maximum iterations exceeded, no convergence\n",
      "Warning: maximum iterations exceeded, no convergence\n",
      "Warning: maximum iterations exceeded, no convergence\n",
      "Warning: maximum iterations exceeded, no convergence\n",
      "Warning: maximum iterations exceeded, no convergence\n",
      "Warning: maximum iterations exceeded, no convergence\n",
      "Warning: maximum iterations exceeded, no convergence\n",
      "Warning: maximum iterations exceeded, no convergence\n",
      "Warning: maximum iterations exceeded, no convergence\n",
      "Warning: maximum iterations exceeded, no convergence\n",
      "Warning: maximum iterations exceeded, no convergence\n",
      "Warning: maximum iterations exceeded, no convergence\n",
      "Warning: maximum iterations exceeded, no convergence\n",
      "Warning: maximum iterations exceeded, no convergence\n",
      "Warning: maximum iterations exceeded, no convergence\n",
      "Warning: maximum iterations exceeded, no convergence\n",
      "Warning: maximum iterations exceeded, no convergence\n",
      "Warning: maximum iterations exceeded, no convergence\n",
      "Warning: maximum iterations exceeded, no convergence\n",
      "Warning: maximum iterations exceeded, no convergence\n",
      "Warning: maximum iterations exceeded, no convergence\n",
      "Warning: maximum iterations exceeded, no convergence\n",
      "Warning: maximum iterations exceeded, no convergence\n",
      "Warning: maximum iterations exceeded, no convergence\n",
      "Warning: maximum iterations exceeded, no convergence\n",
      "Warning: maximum iterations exceeded, no convergence\n",
      "Warning: maximum iterations exceeded, no convergence\n",
      "Warning: maximum iterations exceeded, no convergence\n",
      "Warning: maximum iterations exceeded, no convergence\n",
      "Warning: maximum iterations exceeded, no convergence\n",
      "Warning: maximum iterations exceeded, no convergence\n",
      "Warning: maximum iterations exceeded, no convergence\n",
      "Warning: maximum iterations exceeded, no convergence\n",
      "Warning: maximum iterations exceeded, no convergence\n",
      "Warning: maximum iterations exceeded, no convergence\n",
      "Warning: maximum iterations exceeded, no convergence\n",
      "Warning: maximum iterations exceeded, no convergence\n",
      "Warning: maximum iterations exceeded, no convergence\n",
      "Warning: maximum iterations exceeded, no convergence\n",
      "Warning: maximum iterations exceeded, no convergence\n",
      "Warning: maximum iterations exceeded, no convergence\n",
      "Warning: maximum iterations exceeded, no convergence\n",
      "Warning: maximum iterations exceeded, no convergence\n",
      "Warning: maximum iterations exceeded, no convergence\n",
      "Warning: maximum iterations exceeded, no convergence\n",
      "Warning: maximum iterations exceeded, no convergence\n",
      "Warning: maximum iterations exceeded, no convergence\n",
      "Warning: maximum iterations exceeded, no convergence\n",
      "Warning: maximum iterations exceeded, no convergence\n",
      "Warning: maximum iterations exceeded, no convergence\n",
      "Warning: maximum iterations exceeded, no convergence\n",
      "Warning: maximum iterations exceeded, no convergence\n",
      "Warning: maximum iterations exceeded, no convergence\n",
      "Warning: maximum iterations exceeded, no convergence\n",
      "Warning: maximum iterations exceeded, no convergence\n",
      "Warning: maximum iterations exceeded, no convergence\n",
      "Warning: maximum iterations exceeded, no convergence\n",
      "Warning: maximum iterations exceeded, no convergence\n",
      "Warning: maximum iterations exceeded, no convergence\n",
      "Warning: maximum iterations exceeded, no convergence\n",
      "Warning: maximum iterations exceeded, no convergence\n",
      "Warning: maximum iterations exceeded, no convergence\n",
      "Warning: maximum iterations exceeded, no convergence\n",
      "Warning: maximum iterations exceeded, no convergence\n",
      "Warning: maximum iterations exceeded, no convergence\n",
      "Warning: maximum iterations exceeded, no convergence\n",
      "Warning: maximum iterations exceeded, no convergence\n",
      "Warning: maximum iterations exceeded, no convergence\n",
      "Warning: maximum iterations exceeded, no convergence\n",
      "Warning: maximum iterations exceeded, no convergence\n",
      "Warning: maximum iterations exceeded, no convergence\n",
      "Warning: maximum iterations exceeded, no convergence\n",
      "Warning: maximum iterations exceeded, no convergence\n",
      "Warning: maximum iterations exceeded, no convergence\n",
      "Warning: maximum iterations exceeded, no convergence\n",
      "Warning: maximum iterations exceeded, no convergence\n",
      "Warning: maximum iterations exceeded, no convergence\n",
      "Warning: maximum iterations exceeded, no convergence\n",
      "Warning: maximum iterations exceeded, no convergence\n",
      "Warning: maximum iterations exceeded, no convergence\n",
      "Warning: maximum iterations exceeded, no convergence\n",
      "Warning: maximum iterations exceeded, no convergence\n",
      "Warning: maximum iterations exceeded, no convergence\n",
      "Warning: maximum iterations exceeded, no convergence\n"
     ]
    },
    {
     "name": "stdout",
     "output_type": "stream",
     "text": [
      "Warning: maximum iterations exceeded, no convergence\n",
      "Warning: maximum iterations exceeded, no convergence\n",
      "Warning: maximum iterations exceeded, no convergence\n",
      "Warning: maximum iterations exceeded, no convergence\n",
      "Warning: maximum iterations exceeded, no convergence\n",
      "Warning: maximum iterations exceeded, no convergence\n",
      "Warning: maximum iterations exceeded, no convergence\n",
      "Warning: maximum iterations exceeded, no convergence\n",
      "Warning: maximum iterations exceeded, no convergence\n",
      "Warning: maximum iterations exceeded, no convergence\n",
      "Warning: maximum iterations exceeded, no convergence\n",
      "Warning: maximum iterations exceeded, no convergence\n",
      "Warning: maximum iterations exceeded, no convergence\n",
      "Warning: maximum iterations exceeded, no convergence\n",
      "Warning: maximum iterations exceeded, no convergence\n",
      "Warning: maximum iterations exceeded, no convergence\n",
      "Warning: maximum iterations exceeded, no convergence\n",
      "Warning: maximum iterations exceeded, no convergence\n",
      "Warning: maximum iterations exceeded, no convergence\n",
      "Warning: maximum iterations exceeded, no convergence\n",
      "Warning: maximum iterations exceeded, no convergence\n",
      "Warning: maximum iterations exceeded, no convergence\n",
      "Warning: maximum iterations exceeded, no convergence\n",
      "Warning: maximum iterations exceeded, no convergence\n",
      "Warning: maximum iterations exceeded, no convergence\n",
      "Warning: maximum iterations exceeded, no convergence\n",
      "Warning: maximum iterations exceeded, no convergence\n",
      "Warning: maximum iterations exceeded, no convergence\n",
      "Warning: maximum iterations exceeded, no convergence\n",
      "Warning: maximum iterations exceeded, no convergence\n",
      "Warning: maximum iterations exceeded, no convergence\n",
      "Warning: maximum iterations exceeded, no convergence\n",
      "Warning: maximum iterations exceeded, no convergence\n",
      "Warning: maximum iterations exceeded, no convergence\n",
      "Warning: maximum iterations exceeded, no convergence\n"
     ]
    },
    {
     "ename": "KeyboardInterrupt",
     "evalue": "",
     "output_type": "error",
     "traceback": [
      "\u001b[0;31m---------------------------------------------------------------------------\u001b[0m",
      "\u001b[0;31mKeyboardInterrupt\u001b[0m                         Traceback (most recent call last)",
      "\u001b[0;32m<ipython-input-97-74c51ba1a162>\u001b[0m in \u001b[0;36m<module>\u001b[0;34m()\u001b[0m\n\u001b[1;32m      3\u001b[0m                     \u001b[0;32mlambda\u001b[0m \u001b[0mx\u001b[0m\u001b[0;34m:\u001b[0m \u001b[0mcliqueProject\u001b[0m\u001b[0;34m(\u001b[0m\u001b[0mx\u001b[0m\u001b[0;34m,\u001b[0m \u001b[0mk\u001b[0m\u001b[0;34m,\u001b[0m \u001b[0mH\u001b[0m\u001b[0;34m)\u001b[0m\u001b[0;34m,\u001b[0m\u001b[0;34m\u001b[0m\u001b[0m\n\u001b[1;32m      4\u001b[0m                     \u001b[0;32mlambda\u001b[0m \u001b[0mx\u001b[0m\u001b[0;34m:\u001b[0m \u001b[0mrankProject\u001b[0m\u001b[0;34m(\u001b[0m\u001b[0mx\u001b[0m\u001b[0;34m,\u001b[0m \u001b[0;36m1\u001b[0m\u001b[0;34m,\u001b[0m \u001b[0mFalse\u001b[0m\u001b[0;34m)\u001b[0m\u001b[0;34m,\u001b[0m\u001b[0;34m\u001b[0m\u001b[0m\n\u001b[0;32m----> 5\u001b[0;31m                     0.01, 1e-12, 1000, True)\n\u001b[0m\u001b[1;32m      6\u001b[0m     \u001b[0merrors\u001b[0m \u001b[0;34m+=\u001b[0m \u001b[0merrors2\u001b[0m\u001b[0;34m\u001b[0m\u001b[0m\n\u001b[1;32m      7\u001b[0m     \u001b[0;32mif\u001b[0m \u001b[0merrors\u001b[0m\u001b[0;34m[\u001b[0m\u001b[0;34m-\u001b[0m\u001b[0;36m1\u001b[0m\u001b[0;34m]\u001b[0m \u001b[0;34m<\u001b[0m \u001b[0;36m1e-4\u001b[0m\u001b[0;34m:\u001b[0m\u001b[0;34m\u001b[0m\u001b[0m\n",
      "\u001b[0;32m/home/atbolsh/VeitElserModule/HW4/RRR.pyc\u001b[0m in \u001b[0;36mRRR\u001b[0;34m(v, proj1, proj2, beta, cutoff, maxIter, errors)\u001b[0m\n\u001b[1;32m     14\u001b[0m     \u001b[0;32mwhile\u001b[0m \u001b[0mnorm\u001b[0m\u001b[0;34m(\u001b[0m\u001b[0merror\u001b[0m\u001b[0;34m)\u001b[0m \u001b[0;34m>\u001b[0m \u001b[0mcutoff\u001b[0m \u001b[0;32mand\u001b[0m \u001b[0mi\u001b[0m \u001b[0;34m<\u001b[0m \u001b[0mmaxIter\u001b[0m\u001b[0;34m:\u001b[0m\u001b[0;34m\u001b[0m\u001b[0m\n\u001b[1;32m     15\u001b[0m         \u001b[0mi\u001b[0m \u001b[0;34m+=\u001b[0m \u001b[0;36m1\u001b[0m\u001b[0;34m\u001b[0m\u001b[0m\n\u001b[0;32m---> 16\u001b[0;31m         \u001b[0merror\u001b[0m \u001b[0;34m=\u001b[0m \u001b[0mRRR_error\u001b[0m\u001b[0;34m(\u001b[0m\u001b[0mv\u001b[0m\u001b[0;34m,\u001b[0m \u001b[0mproj1\u001b[0m\u001b[0;34m,\u001b[0m \u001b[0mproj2\u001b[0m\u001b[0;34m)\u001b[0m\u001b[0;34m\u001b[0m\u001b[0m\n\u001b[0m\u001b[1;32m     17\u001b[0m         \u001b[0mv\u001b[0m \u001b[0;34m=\u001b[0m \u001b[0mv\u001b[0m \u001b[0;34m+\u001b[0m \u001b[0mbeta\u001b[0m\u001b[0;34m*\u001b[0m\u001b[0merror\u001b[0m\u001b[0;34m\u001b[0m\u001b[0m\n\u001b[1;32m     18\u001b[0m         \u001b[0;32mif\u001b[0m \u001b[0merrors\u001b[0m\u001b[0;34m:\u001b[0m\u001b[0;34m\u001b[0m\u001b[0m\n",
      "\u001b[0;32m/home/atbolsh/VeitElserModule/HW4/RRR.pyc\u001b[0m in \u001b[0;36mRRR_error\u001b[0;34m(v, proj1, proj2)\u001b[0m\n\u001b[1;32m      4\u001b[0m \u001b[0;34m\u001b[0m\u001b[0m\n\u001b[1;32m      5\u001b[0m \u001b[0;32mdef\u001b[0m \u001b[0mRRR_error\u001b[0m\u001b[0;34m(\u001b[0m\u001b[0mv\u001b[0m\u001b[0;34m,\u001b[0m \u001b[0mproj1\u001b[0m\u001b[0;34m,\u001b[0m \u001b[0mproj2\u001b[0m\u001b[0;34m)\u001b[0m\u001b[0;34m:\u001b[0m\u001b[0;34m\u001b[0m\u001b[0m\n\u001b[0;32m----> 6\u001b[0;31m     \u001b[0mb\u001b[0m \u001b[0;34m=\u001b[0m \u001b[0mproj2\u001b[0m\u001b[0;34m(\u001b[0m\u001b[0mv\u001b[0m\u001b[0;34m)\u001b[0m\u001b[0;34m\u001b[0m\u001b[0m\n\u001b[0m\u001b[1;32m      7\u001b[0m     \u001b[0ma\u001b[0m \u001b[0;34m=\u001b[0m \u001b[0mproj1\u001b[0m\u001b[0;34m(\u001b[0m\u001b[0;36m2\u001b[0m\u001b[0;34m*\u001b[0m\u001b[0mb\u001b[0m \u001b[0;34m-\u001b[0m \u001b[0mv\u001b[0m\u001b[0;34m)\u001b[0m\u001b[0;34m\u001b[0m\u001b[0m\n\u001b[1;32m      8\u001b[0m     \u001b[0;32mreturn\u001b[0m \u001b[0ma\u001b[0m \u001b[0;34m-\u001b[0m \u001b[0mb\u001b[0m\u001b[0;34m\u001b[0m\u001b[0m\n",
      "\u001b[0;32m<ipython-input-97-74c51ba1a162>\u001b[0m in \u001b[0;36m<lambda>\u001b[0;34m(x)\u001b[0m\n\u001b[1;32m      2\u001b[0m     Y, errors2, sols = RRR(Y,\n\u001b[1;32m      3\u001b[0m                     \u001b[0;32mlambda\u001b[0m \u001b[0mx\u001b[0m\u001b[0;34m:\u001b[0m \u001b[0mcliqueProject\u001b[0m\u001b[0;34m(\u001b[0m\u001b[0mx\u001b[0m\u001b[0;34m,\u001b[0m \u001b[0mk\u001b[0m\u001b[0;34m,\u001b[0m \u001b[0mH\u001b[0m\u001b[0;34m)\u001b[0m\u001b[0;34m,\u001b[0m\u001b[0;34m\u001b[0m\u001b[0m\n\u001b[0;32m----> 4\u001b[0;31m                     \u001b[0;32mlambda\u001b[0m \u001b[0mx\u001b[0m\u001b[0;34m:\u001b[0m \u001b[0mrankProject\u001b[0m\u001b[0;34m(\u001b[0m\u001b[0mx\u001b[0m\u001b[0;34m,\u001b[0m \u001b[0;36m1\u001b[0m\u001b[0;34m,\u001b[0m \u001b[0mFalse\u001b[0m\u001b[0;34m)\u001b[0m\u001b[0;34m,\u001b[0m\u001b[0;34m\u001b[0m\u001b[0m\n\u001b[0m\u001b[1;32m      5\u001b[0m                     0.01, 1e-12, 1000, True)\n\u001b[1;32m      6\u001b[0m     \u001b[0merrors\u001b[0m \u001b[0;34m+=\u001b[0m \u001b[0merrors2\u001b[0m\u001b[0;34m\u001b[0m\u001b[0m\n",
      "\u001b[0;32m/home/atbolsh/VeitElserModule/HW4/rankProject.pyc\u001b[0m in \u001b[0;36mrankProject\u001b[0;34m(X, rank, unitary)\u001b[0m\n\u001b[1;32m     14\u001b[0m    \u001b[0ml\u001b[0m \u001b[0;34m=\u001b[0m \u001b[0mnp\u001b[0m\u001b[0;34m.\u001b[0m\u001b[0mshape\u001b[0m\u001b[0;34m(\u001b[0m\u001b[0mX\u001b[0m\u001b[0;34m)\u001b[0m\u001b[0;34m[\u001b[0m\u001b[0;36m0\u001b[0m\u001b[0;34m]\u001b[0m\u001b[0;34m\u001b[0m\u001b[0m\n\u001b[1;32m     15\u001b[0m    \u001b[0mM\u001b[0m \u001b[0;34m=\u001b[0m \u001b[0msemiDefProject\u001b[0m\u001b[0;34m(\u001b[0m\u001b[0mX\u001b[0m\u001b[0;34m)\u001b[0m\u001b[0;34m\u001b[0m\u001b[0m\n\u001b[0;32m---> 16\u001b[0;31m    \u001b[0mvals\u001b[0m\u001b[0;34m,\u001b[0m \u001b[0mx\u001b[0m \u001b[0;34m=\u001b[0m \u001b[0meig\u001b[0m\u001b[0;34m(\u001b[0m\u001b[0mM\u001b[0m\u001b[0;34m)\u001b[0m\u001b[0;34m\u001b[0m\u001b[0m\n\u001b[0m\u001b[1;32m     17\u001b[0m    \u001b[0;32mif\u001b[0m \u001b[0msG\u001b[0m\u001b[0;34m:\u001b[0m\u001b[0;34m\u001b[0m\u001b[0m\n\u001b[1;32m     18\u001b[0m       \u001b[0mx\u001b[0m \u001b[0;34m=\u001b[0m \u001b[0mnp\u001b[0m\u001b[0;34m.\u001b[0m\u001b[0msign\u001b[0m\u001b[0;34m(\u001b[0m\u001b[0mx\u001b[0m\u001b[0;34m)\u001b[0m\u001b[0;34m\u001b[0m\u001b[0m\n",
      "\u001b[0;32m/home/atbolsh/anaconda2/lib/python2.7/site-packages/numpy/linalg/linalg.pyc\u001b[0m in \u001b[0;36meig\u001b[0;34m(a)\u001b[0m\n\u001b[1;32m   1132\u001b[0m         _raise_linalgerror_eigenvalues_nonconvergence)\n\u001b[1;32m   1133\u001b[0m     \u001b[0msignature\u001b[0m \u001b[0;34m=\u001b[0m \u001b[0;34m'D->DD'\u001b[0m \u001b[0;32mif\u001b[0m \u001b[0misComplexType\u001b[0m\u001b[0;34m(\u001b[0m\u001b[0mt\u001b[0m\u001b[0;34m)\u001b[0m \u001b[0;32melse\u001b[0m \u001b[0;34m'd->DD'\u001b[0m\u001b[0;34m\u001b[0m\u001b[0m\n\u001b[0;32m-> 1134\u001b[0;31m     \u001b[0mw\u001b[0m\u001b[0;34m,\u001b[0m \u001b[0mvt\u001b[0m \u001b[0;34m=\u001b[0m \u001b[0m_umath_linalg\u001b[0m\u001b[0;34m.\u001b[0m\u001b[0meig\u001b[0m\u001b[0;34m(\u001b[0m\u001b[0ma\u001b[0m\u001b[0;34m,\u001b[0m \u001b[0msignature\u001b[0m\u001b[0;34m=\u001b[0m\u001b[0msignature\u001b[0m\u001b[0;34m,\u001b[0m \u001b[0mextobj\u001b[0m\u001b[0;34m=\u001b[0m\u001b[0mextobj\u001b[0m\u001b[0;34m)\u001b[0m\u001b[0;34m\u001b[0m\u001b[0m\n\u001b[0m\u001b[1;32m   1135\u001b[0m \u001b[0;34m\u001b[0m\u001b[0m\n\u001b[1;32m   1136\u001b[0m     \u001b[0;32mif\u001b[0m \u001b[0;32mnot\u001b[0m \u001b[0misComplexType\u001b[0m\u001b[0;34m(\u001b[0m\u001b[0mt\u001b[0m\u001b[0;34m)\u001b[0m \u001b[0;32mand\u001b[0m \u001b[0mall\u001b[0m\u001b[0;34m(\u001b[0m\u001b[0mw\u001b[0m\u001b[0;34m.\u001b[0m\u001b[0mimag\u001b[0m \u001b[0;34m==\u001b[0m \u001b[0;36m0.0\u001b[0m\u001b[0;34m)\u001b[0m\u001b[0;34m:\u001b[0m\u001b[0;34m\u001b[0m\u001b[0m\n",
      "\u001b[0;31mKeyboardInterrupt\u001b[0m: "
     ]
    }
   ],
   "source": [
    "while(True):\n",
    "    Y, errors2, sols = RRR(Y,\n",
    "                    lambda x: cliqueProject(x, k, H), \n",
    "                    lambda x: rankProject(x, 1, False),\n",
    "                    0.01, 1e-12, 1000, True)\n",
    "    errors += errors2\n",
    "    if errors[-1] < 1e-4:\n",
    "        break\n",
    "\n"
   ]
  },
  {
   "cell_type": "code",
   "execution_count": 98,
   "metadata": {},
   "outputs": [
    {
     "data": {
      "image/png": "[encoded data removed]",
      "text/plain": [
       "<matplotlib.figure.Figure at 0x7fa25af60c10>"
      ]
     },
     "metadata": {},
     "output_type": "display_data"
    }
   ],
   "source": [
    "plt.plot(errors)\n",
    "plt.show()"
   ]
  },
  {
   "cell_type": "code",
   "execution_count": 99,
   "metadata": {},
   "outputs": [
    {
     "name": "stdout",
     "output_type": "stream",
     "text": [
      "13.8930809964\n"
     ]
    }
   ],
   "source": [
    "print errors[-1]"
   ]
  },
  {
   "cell_type": "markdown",
   "metadata": {},
   "source": [
    "How much harder is this than $k=34$, anyway?"
   ]
  },
  {
   "cell_type": "code",
   "execution_count": 96,
   "metadata": {},
   "outputs": [
    {
     "name": "stdout",
     "output_type": "stream",
     "text": [
      "100851.385037\n",
      "7292.90465632\n",
      "0.000626578748218\n"
     ]
    }
   ],
   "source": [
    "print Nc(34)\n",
    "print Nc(35)\n",
    "print 0.9**70"
   ]
  },
  {
   "cell_type": "markdown",
   "metadata": {},
   "source": [
    "Somewhere between $2000$ times harder and $20$ times harder. It's probably closer to $2000$ because 'fake attractors' keep distracting the algorithm.\n",
    "\n",
    "Nothing to do but to keep running."
   ]
  },
  {
   "cell_type": "markdown",
   "metadata": {},
   "source": [
    "### Conclusion\n",
    "\n",
    "$k=35$ did not converge after a full nightl; clearly I need better code.\n",
    "\n",
    "Howevere, the other notebook did compute a clique at $k=34$.\n",
    "\n",
    "That is the largest my code can detect at this stage."
   ]
  },
  {
   "cell_type": "code",
   "execution_count": null,
   "metadata": {
    "collapsed": true
   },
   "outputs": [],
   "source": []
  }
 ],
 "metadata": {
  "kernelspec": {
   "display_name": "Python 2",
   "language": "python",
   "name": "python2"
  },
  "language_info": {
   "codemirror_mode": {
    "name": "ipython",
    "version": 2
   },
   "file_extension": ".py",
   "mimetype": "text/x-python",
   "name": "python",
   "nbconvert_exporter": "python",
   "pygments_lexer": "ipython2",
   "version": "2.7.14"
  }
 },
 "nbformat": 4,
 "nbformat_minor": 2
}
